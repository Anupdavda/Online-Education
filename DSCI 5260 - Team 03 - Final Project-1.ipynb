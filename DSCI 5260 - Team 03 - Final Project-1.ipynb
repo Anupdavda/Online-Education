{
 "cells": [
  {
   "cell_type": "code",
   "execution_count": 1,
   "metadata": {},
   "outputs": [],
   "source": [
    "#Import libraries\n",
    "\n",
    "import numpy as np\n",
    "import pandas as pd\n",
    "import matplotlib.pyplot as plt\n",
    "import seaborn as sns"
   ]
  },
  {
   "cell_type": "code",
   "execution_count": 2,
   "metadata": {},
   "outputs": [
    {
     "data": {
      "text/html": [
       "<div>\n",
       "<style scoped>\n",
       "    .dataframe tbody tr th:only-of-type {\n",
       "        vertical-align: middle;\n",
       "    }\n",
       "\n",
       "    .dataframe tbody tr th {\n",
       "        vertical-align: top;\n",
       "    }\n",
       "\n",
       "    .dataframe thead th {\n",
       "        text-align: right;\n",
       "    }\n",
       "</style>\n",
       "<table border=\"1\" class=\"dataframe\">\n",
       "  <thead>\n",
       "    <tr style=\"text-align: right;\">\n",
       "      <th></th>\n",
       "      <th>Gender</th>\n",
       "      <th>Home Location</th>\n",
       "      <th>Level of Education</th>\n",
       "      <th>Age(Years)</th>\n",
       "      <th>Number of Subjects</th>\n",
       "      <th>Device type used to attend classes</th>\n",
       "      <th>Economic status</th>\n",
       "      <th>Family size</th>\n",
       "      <th>Internet facility in your locality</th>\n",
       "      <th>Are you involved in any sports?</th>\n",
       "      <th>...</th>\n",
       "      <th>Time spent on social media (Hours)</th>\n",
       "      <th>Interested in Gaming?</th>\n",
       "      <th>Have separate room for studying?</th>\n",
       "      <th>Engaged in group studies?</th>\n",
       "      <th>Average marks scored before pandemic in traditional classroom</th>\n",
       "      <th>Your interaction in online mode</th>\n",
       "      <th>Clearing doubts with faculties in online mode</th>\n",
       "      <th>Interested in?</th>\n",
       "      <th>Performance in online</th>\n",
       "      <th>Your level of satisfaction in Online Education</th>\n",
       "    </tr>\n",
       "  </thead>\n",
       "  <tbody>\n",
       "    <tr>\n",
       "      <th>0</th>\n",
       "      <td>Male</td>\n",
       "      <td>Urban</td>\n",
       "      <td>Under Graduate</td>\n",
       "      <td>18</td>\n",
       "      <td>11</td>\n",
       "      <td>Laptop</td>\n",
       "      <td>Middle Class</td>\n",
       "      <td>4</td>\n",
       "      <td>5</td>\n",
       "      <td>No</td>\n",
       "      <td>...</td>\n",
       "      <td>1</td>\n",
       "      <td>No</td>\n",
       "      <td>No</td>\n",
       "      <td>No</td>\n",
       "      <td>91-100</td>\n",
       "      <td>1</td>\n",
       "      <td>1</td>\n",
       "      <td>Practical</td>\n",
       "      <td>6</td>\n",
       "      <td>Average</td>\n",
       "    </tr>\n",
       "    <tr>\n",
       "      <th>1</th>\n",
       "      <td>Male</td>\n",
       "      <td>Urban</td>\n",
       "      <td>Under Graduate</td>\n",
       "      <td>19</td>\n",
       "      <td>7</td>\n",
       "      <td>Laptop</td>\n",
       "      <td>Middle Class</td>\n",
       "      <td>4</td>\n",
       "      <td>1</td>\n",
       "      <td>Yes</td>\n",
       "      <td>...</td>\n",
       "      <td>1</td>\n",
       "      <td>Yes</td>\n",
       "      <td>Yes</td>\n",
       "      <td>No</td>\n",
       "      <td>91-100</td>\n",
       "      <td>1</td>\n",
       "      <td>1</td>\n",
       "      <td>Theory</td>\n",
       "      <td>3</td>\n",
       "      <td>Bad</td>\n",
       "    </tr>\n",
       "    <tr>\n",
       "      <th>2</th>\n",
       "      <td>Male</td>\n",
       "      <td>Rural</td>\n",
       "      <td>Under Graduate</td>\n",
       "      <td>18</td>\n",
       "      <td>5</td>\n",
       "      <td>Laptop</td>\n",
       "      <td>Middle Class</td>\n",
       "      <td>5</td>\n",
       "      <td>2</td>\n",
       "      <td>No</td>\n",
       "      <td>...</td>\n",
       "      <td>1</td>\n",
       "      <td>No</td>\n",
       "      <td>Yes</td>\n",
       "      <td>No</td>\n",
       "      <td>71-80</td>\n",
       "      <td>1</td>\n",
       "      <td>1</td>\n",
       "      <td>Both</td>\n",
       "      <td>6</td>\n",
       "      <td>Bad</td>\n",
       "    </tr>\n",
       "    <tr>\n",
       "      <th>3</th>\n",
       "      <td>Male</td>\n",
       "      <td>Urban</td>\n",
       "      <td>Under Graduate</td>\n",
       "      <td>18</td>\n",
       "      <td>5</td>\n",
       "      <td>Laptop</td>\n",
       "      <td>Middle Class</td>\n",
       "      <td>4</td>\n",
       "      <td>4</td>\n",
       "      <td>Yes</td>\n",
       "      <td>...</td>\n",
       "      <td>2</td>\n",
       "      <td>No</td>\n",
       "      <td>No</td>\n",
       "      <td>yes</td>\n",
       "      <td>91-100</td>\n",
       "      <td>1</td>\n",
       "      <td>2</td>\n",
       "      <td>Theory</td>\n",
       "      <td>4</td>\n",
       "      <td>Bad</td>\n",
       "    </tr>\n",
       "    <tr>\n",
       "      <th>4</th>\n",
       "      <td>Male</td>\n",
       "      <td>Rural</td>\n",
       "      <td>Under Graduate</td>\n",
       "      <td>18</td>\n",
       "      <td>5</td>\n",
       "      <td>Laptop</td>\n",
       "      <td>Middle Class</td>\n",
       "      <td>4</td>\n",
       "      <td>3</td>\n",
       "      <td>No</td>\n",
       "      <td>...</td>\n",
       "      <td>2</td>\n",
       "      <td>Yes</td>\n",
       "      <td>Yes</td>\n",
       "      <td>yes</td>\n",
       "      <td>81-90</td>\n",
       "      <td>3</td>\n",
       "      <td>3</td>\n",
       "      <td>Both</td>\n",
       "      <td>6</td>\n",
       "      <td>Average</td>\n",
       "    </tr>\n",
       "  </tbody>\n",
       "</table>\n",
       "<p>5 rows × 23 columns</p>\n",
       "</div>"
      ],
      "text/plain": [
       "  Gender Home Location Level of Education  Age(Years)  Number of Subjects  \\\n",
       "0   Male         Urban     Under Graduate          18                  11   \n",
       "1   Male         Urban     Under Graduate          19                   7   \n",
       "2   Male         Rural     Under Graduate          18                   5   \n",
       "3   Male         Urban     Under Graduate          18                   5   \n",
       "4   Male         Rural     Under Graduate          18                   5   \n",
       "\n",
       "  Device type used to attend classes Economic status  Family size  \\\n",
       "0                             Laptop    Middle Class            4   \n",
       "1                             Laptop    Middle Class            4   \n",
       "2                             Laptop    Middle Class            5   \n",
       "3                             Laptop    Middle Class            4   \n",
       "4                             Laptop    Middle Class            4   \n",
       "\n",
       "   Internet facility in your locality Are you involved in any sports?  ...  \\\n",
       "0                                   5                              No  ...   \n",
       "1                                   1                             Yes  ...   \n",
       "2                                   2                              No  ...   \n",
       "3                                   4                             Yes  ...   \n",
       "4                                   3                              No  ...   \n",
       "\n",
       "  Time spent on social media (Hours)  Interested in Gaming?  \\\n",
       "0                                  1                     No   \n",
       "1                                  1                    Yes   \n",
       "2                                  1                     No   \n",
       "3                                  2                     No   \n",
       "4                                  2                    Yes   \n",
       "\n",
       "   Have separate room for studying?  Engaged in group studies?  \\\n",
       "0                                No                         No   \n",
       "1                               Yes                         No   \n",
       "2                               Yes                         No   \n",
       "3                                No                        yes   \n",
       "4                               Yes                        yes   \n",
       "\n",
       "  Average marks scored before pandemic in traditional classroom  \\\n",
       "0                                             91-100              \n",
       "1                                             91-100              \n",
       "2                                              71-80              \n",
       "3                                             91-100              \n",
       "4                                              81-90              \n",
       "\n",
       "  Your interaction in online mode  \\\n",
       "0                               1   \n",
       "1                               1   \n",
       "2                               1   \n",
       "3                               1   \n",
       "4                               3   \n",
       "\n",
       "  Clearing doubts with faculties in online mode Interested in?  \\\n",
       "0                                             1      Practical   \n",
       "1                                             1         Theory   \n",
       "2                                             1           Both   \n",
       "3                                             2         Theory   \n",
       "4                                             3           Both   \n",
       "\n",
       "   Performance in online  Your level of satisfaction in Online Education  \n",
       "0                      6                                         Average  \n",
       "1                      3                                             Bad  \n",
       "2                      6                                             Bad  \n",
       "3                      4                                             Bad  \n",
       "4                      6                                         Average  \n",
       "\n",
       "[5 rows x 23 columns]"
      ]
     },
     "execution_count": 2,
     "metadata": {},
     "output_type": "execute_result"
    }
   ],
   "source": [
    "#Importing the dataset\n",
    "\n",
    "online_education = pd.read_csv(\"C:/Users/Arjun/Desktop/ONLINE EDUCATION SYSTEM REVIEW.csv\")\n",
    "online_education.head()\n",
    "\n"
   ]
  },
  {
   "cell_type": "code",
   "execution_count": 3,
   "metadata": {},
   "outputs": [
    {
     "name": "stdout",
     "output_type": "stream",
     "text": [
      "<class 'pandas.core.frame.DataFrame'>\n",
      "RangeIndex: 1033 entries, 0 to 1032\n",
      "Data columns (total 23 columns):\n",
      " #   Column                                                         Non-Null Count  Dtype \n",
      "---  ------                                                         --------------  ----- \n",
      " 0   Gender                                                         1033 non-null   object\n",
      " 1   Home Location                                                  1033 non-null   object\n",
      " 2   Level of Education                                             1033 non-null   object\n",
      " 3   Age(Years)                                                     1033 non-null   int64 \n",
      " 4   Number of Subjects                                             1033 non-null   int64 \n",
      " 5   Device type used to attend classes                             1033 non-null   object\n",
      " 6   Economic status                                                1033 non-null   object\n",
      " 7   Family size                                                    1033 non-null   int64 \n",
      " 8   Internet facility in your locality                             1033 non-null   int64 \n",
      " 9   Are you involved in any sports?                                1033 non-null   object\n",
      " 10  Do elderly people monitor you?                                 1033 non-null   object\n",
      " 11  Study time (Hours)                                             1033 non-null   int64 \n",
      " 12  Sleep time (Hours)                                             1033 non-null   int64 \n",
      " 13  Time spent on social media (Hours)                             1033 non-null   int64 \n",
      " 14  Interested in Gaming?                                          1033 non-null   object\n",
      " 15  Have separate room for studying?                               1033 non-null   object\n",
      " 16  Engaged in group studies?                                      1033 non-null   object\n",
      " 17  Average marks scored before pandemic in traditional classroom  1033 non-null   object\n",
      " 18  Your interaction in online mode                                1033 non-null   int64 \n",
      " 19  Clearing doubts with faculties in online mode                  1033 non-null   int64 \n",
      " 20  Interested in?                                                 1033 non-null   object\n",
      " 21  Performance in online                                          1033 non-null   int64 \n",
      " 22  Your level of satisfaction in Online Education                 1033 non-null   object\n",
      "dtypes: int64(10), object(13)\n",
      "memory usage: 185.7+ KB\n"
     ]
    }
   ],
   "source": [
    "#basic information about the dataset\n",
    "\n",
    "online_education.shape\n",
    "online_education.columns\n",
    "online_education.info()"
   ]
  },
  {
   "cell_type": "code",
   "execution_count": 4,
   "metadata": {},
   "outputs": [
    {
     "data": {
      "text/plain": [
       "Gender                                                           object\n",
       "Home Location                                                    object\n",
       "Level of Education                                               object\n",
       "Age(Years)                                                        int64\n",
       "Number of Subjects                                                int64\n",
       "Device type used to attend classes                               object\n",
       "Economic status                                                  object\n",
       "Family size                                                       int64\n",
       "Internet facility in your locality                                int64\n",
       "Are you involved in any sports?                                  object\n",
       "Do elderly people monitor you?                                   object\n",
       "Study time (Hours)                                                int64\n",
       "Sleep time (Hours)                                                int64\n",
       "Time spent on social media (Hours)                                int64\n",
       "Interested in Gaming?                                            object\n",
       "Have separate room for studying?                                 object\n",
       "Engaged in group studies?                                        object\n",
       "Average marks scored before pandemic in traditional classroom    object\n",
       "Your interaction in online mode                                   int64\n",
       "Clearing doubts with faculties in online mode                     int64\n",
       "Interested in?                                                   object\n",
       "Performance in online                                             int64\n",
       "Your level of satisfaction in Online Education                   object\n",
       "dtype: object"
      ]
     },
     "execution_count": 4,
     "metadata": {},
     "output_type": "execute_result"
    }
   ],
   "source": [
    "#datatypes\n",
    "\n",
    "online_education.dtypes"
   ]
  },
  {
   "cell_type": "code",
   "execution_count": 5,
   "metadata": {},
   "outputs": [],
   "source": [
    "online_education['sno'] = range(1, len(online_education) + 1)\n"
   ]
  },
  {
   "cell_type": "markdown",
   "metadata": {},
   "source": [
    "## Descriptive statistics"
   ]
  },
  {
   "cell_type": "code",
   "execution_count": 6,
   "metadata": {},
   "outputs": [
    {
     "data": {
      "text/html": [
       "<div>\n",
       "<style scoped>\n",
       "    .dataframe tbody tr th:only-of-type {\n",
       "        vertical-align: middle;\n",
       "    }\n",
       "\n",
       "    .dataframe tbody tr th {\n",
       "        vertical-align: top;\n",
       "    }\n",
       "\n",
       "    .dataframe thead th {\n",
       "        text-align: right;\n",
       "    }\n",
       "</style>\n",
       "<table border=\"1\" class=\"dataframe\">\n",
       "  <thead>\n",
       "    <tr style=\"text-align: right;\">\n",
       "      <th></th>\n",
       "      <th>Age(Years)</th>\n",
       "      <th>Family size</th>\n",
       "      <th>Internet facility in your locality</th>\n",
       "      <th>Study time (Hours)</th>\n",
       "      <th>Sleep time (Hours)</th>\n",
       "      <th>Time spent on social media (Hours)</th>\n",
       "      <th>Your interaction in online mode</th>\n",
       "      <th>Clearing doubts with faculties in online mode</th>\n",
       "      <th>Performance in online</th>\n",
       "    </tr>\n",
       "  </thead>\n",
       "  <tbody>\n",
       "    <tr>\n",
       "      <th>count</th>\n",
       "      <td>1033.000000</td>\n",
       "      <td>1033.000000</td>\n",
       "      <td>1033.000000</td>\n",
       "      <td>1033.000000</td>\n",
       "      <td>1033.000000</td>\n",
       "      <td>1033.000000</td>\n",
       "      <td>1033.000000</td>\n",
       "      <td>1033.000000</td>\n",
       "      <td>1033.000000</td>\n",
       "    </tr>\n",
       "    <tr>\n",
       "      <th>mean</th>\n",
       "      <td>19.798645</td>\n",
       "      <td>4.413359</td>\n",
       "      <td>3.586641</td>\n",
       "      <td>4.325266</td>\n",
       "      <td>6.947725</td>\n",
       "      <td>2.636980</td>\n",
       "      <td>2.930300</td>\n",
       "      <td>2.833495</td>\n",
       "      <td>6.696031</td>\n",
       "    </tr>\n",
       "    <tr>\n",
       "      <th>std</th>\n",
       "      <td>3.199158</td>\n",
       "      <td>1.236750</td>\n",
       "      <td>1.026063</td>\n",
       "      <td>2.134233</td>\n",
       "      <td>1.324039</td>\n",
       "      <td>1.859625</td>\n",
       "      <td>1.105387</td>\n",
       "      <td>1.163629</td>\n",
       "      <td>1.920048</td>\n",
       "    </tr>\n",
       "    <tr>\n",
       "      <th>min</th>\n",
       "      <td>9.000000</td>\n",
       "      <td>2.000000</td>\n",
       "      <td>1.000000</td>\n",
       "      <td>1.000000</td>\n",
       "      <td>1.000000</td>\n",
       "      <td>1.000000</td>\n",
       "      <td>1.000000</td>\n",
       "      <td>1.000000</td>\n",
       "      <td>2.000000</td>\n",
       "    </tr>\n",
       "    <tr>\n",
       "      <th>25%</th>\n",
       "      <td>18.000000</td>\n",
       "      <td>4.000000</td>\n",
       "      <td>3.000000</td>\n",
       "      <td>3.000000</td>\n",
       "      <td>6.000000</td>\n",
       "      <td>1.000000</td>\n",
       "      <td>2.000000</td>\n",
       "      <td>2.000000</td>\n",
       "      <td>6.000000</td>\n",
       "    </tr>\n",
       "    <tr>\n",
       "      <th>50%</th>\n",
       "      <td>19.000000</td>\n",
       "      <td>4.000000</td>\n",
       "      <td>4.000000</td>\n",
       "      <td>4.000000</td>\n",
       "      <td>7.000000</td>\n",
       "      <td>2.000000</td>\n",
       "      <td>3.000000</td>\n",
       "      <td>3.000000</td>\n",
       "      <td>7.000000</td>\n",
       "    </tr>\n",
       "    <tr>\n",
       "      <th>75%</th>\n",
       "      <td>20.000000</td>\n",
       "      <td>5.000000</td>\n",
       "      <td>4.000000</td>\n",
       "      <td>6.000000</td>\n",
       "      <td>8.000000</td>\n",
       "      <td>3.000000</td>\n",
       "      <td>4.000000</td>\n",
       "      <td>4.000000</td>\n",
       "      <td>8.000000</td>\n",
       "    </tr>\n",
       "    <tr>\n",
       "      <th>max</th>\n",
       "      <td>40.000000</td>\n",
       "      <td>10.000000</td>\n",
       "      <td>5.000000</td>\n",
       "      <td>10.000000</td>\n",
       "      <td>10.000000</td>\n",
       "      <td>10.000000</td>\n",
       "      <td>5.000000</td>\n",
       "      <td>5.000000</td>\n",
       "      <td>10.000000</td>\n",
       "    </tr>\n",
       "  </tbody>\n",
       "</table>\n",
       "</div>"
      ],
      "text/plain": [
       "        Age(Years)  Family size  Internet facility in your locality  \\\n",
       "count  1033.000000  1033.000000                         1033.000000   \n",
       "mean     19.798645     4.413359                            3.586641   \n",
       "std       3.199158     1.236750                            1.026063   \n",
       "min       9.000000     2.000000                            1.000000   \n",
       "25%      18.000000     4.000000                            3.000000   \n",
       "50%      19.000000     4.000000                            4.000000   \n",
       "75%      20.000000     5.000000                            4.000000   \n",
       "max      40.000000    10.000000                            5.000000   \n",
       "\n",
       "       Study time (Hours)  Sleep time (Hours)  \\\n",
       "count         1033.000000         1033.000000   \n",
       "mean             4.325266            6.947725   \n",
       "std              2.134233            1.324039   \n",
       "min              1.000000            1.000000   \n",
       "25%              3.000000            6.000000   \n",
       "50%              4.000000            7.000000   \n",
       "75%              6.000000            8.000000   \n",
       "max             10.000000           10.000000   \n",
       "\n",
       "       Time spent on social media (Hours)  Your interaction in online mode  \\\n",
       "count                         1033.000000                      1033.000000   \n",
       "mean                             2.636980                         2.930300   \n",
       "std                              1.859625                         1.105387   \n",
       "min                              1.000000                         1.000000   \n",
       "25%                              1.000000                         2.000000   \n",
       "50%                              2.000000                         3.000000   \n",
       "75%                              3.000000                         4.000000   \n",
       "max                             10.000000                         5.000000   \n",
       "\n",
       "       Clearing doubts with faculties in online mode  Performance in online  \n",
       "count                                    1033.000000            1033.000000  \n",
       "mean                                        2.833495               6.696031  \n",
       "std                                         1.163629               1.920048  \n",
       "min                                         1.000000               2.000000  \n",
       "25%                                         2.000000               6.000000  \n",
       "50%                                         3.000000               7.000000  \n",
       "75%                                         4.000000               8.000000  \n",
       "max                                         5.000000              10.000000  "
      ]
     },
     "execution_count": 6,
     "metadata": {},
     "output_type": "execute_result"
    }
   ],
   "source": [
    "#Summary Statistic of Ordinal Data\n",
    "\n",
    "online_education[[\"Age(Years)\", \"Family size\", \"Internet facility in your locality\", \"Study time (Hours)\",\"Sleep time (Hours)\",\"Time spent on social media (Hours)\",\"Your interaction in online mode\", \"Clearing doubts with faculties in online mode\", \"Performance in online\"]].describe()"
   ]
  },
  {
   "cell_type": "code",
   "execution_count": 7,
   "metadata": {},
   "outputs": [
    {
     "name": "stdout",
     "output_type": "stream",
     "text": [
      "Mean coefficient of variance: 0.16158468594493283\n",
      "Mean coefficient of variance for Age greater than 30: 0.06838046810895325\n"
     ]
    }
   ],
   "source": [
    "#Coefficient of variance for age greater than 30\n",
    "\n",
    "cv = lambda x: np.std(x, ddof=1) / np.mean(x)\n",
    "data = online_education[online_education['Age(Years)'] > 30]['Age(Years)'].array\n",
    "cv_greater_than_30 = cv(data)\n",
    "cv_greater_than_30\n",
    "\n",
    "#CV for average age\n",
    "data = online_education['Age(Years)'].array\n",
    "cv_mean = cv(data)\n",
    "print(\"Mean coefficient of variance:\", cv_mean)\n",
    "print(\"Mean coefficient of variance for Age greater than 30:\", cv_greater_than_30)\n"
   ]
  },
  {
   "cell_type": "code",
   "execution_count": 8,
   "metadata": {},
   "outputs": [
    {
     "data": {
      "text/plain": [
       "Ttest_indResult(statistic=3.596875924481179, pvalue=0.00033733704253210533)"
      ]
     },
     "execution_count": 8,
     "metadata": {},
     "output_type": "execute_result"
    }
   ],
   "source": [
    "# T-test\n",
    "from scipy import stats\n",
    "female_average_score = online_education[online_education['Gender'] == \"Female\"]['Performance in online'].array\n",
    "male_average_score = online_education[online_education['Gender'] == \"Male\"]['Performance in online'].array\n",
    "\n",
    "stats.ttest_ind(female_average_score,male_average_score, equal_var=True)"
   ]
  },
  {
   "cell_type": "code",
   "execution_count": 9,
   "metadata": {},
   "outputs": [
    {
     "data": {
      "image/png": "[encoded data removed]",
      "text/plain": [
       "<Figure size 864x720 with 12 Axes>"
      ]
     },
     "metadata": {
      "needs_background": "light"
     },
     "output_type": "display_data"
    }
   ],
   "source": [
    "import matplotlib.pyplot as plt\n",
    "\n",
    "online_education.hist(figsize=(12, 10), bins=30, edgecolor=\"black\")\n",
    "plt.subplots_adjust(hspace=0.7, wspace=0.4)"
   ]
  },
  {
   "cell_type": "markdown",
   "metadata": {},
   "source": [
    "## Data analysis"
   ]
  },
  {
   "cell_type": "code",
   "execution_count": 10,
   "metadata": {},
   "outputs": [
    {
     "data": {
      "text/plain": [
       "<AxesSubplot:>"
      ]
     },
     "execution_count": 10,
     "metadata": {},
     "output_type": "execute_result"
    },
    {
     "data": {
      "image/png": "[encoded data removed]",
      "text/plain": [
       "<Figure size 1080x720 with 2 Axes>"
      ]
     },
     "metadata": {
      "needs_background": "light"
     },
     "output_type": "display_data"
    }
   ],
   "source": [
    "#Heat Map\n",
    "\n",
    "plt.figure(figsize=(15,10))\n",
    "sns.heatmap(online_education.corr(), annot=True)"
   ]
  },
  {
   "cell_type": "code",
   "execution_count": 11,
   "metadata": {},
   "outputs": [
    {
     "data": {
      "image/png": "[encoded data removed]",
      "text/plain": [
       "<Figure size 720x360 with 1 Axes>"
      ]
     },
     "metadata": {
      "needs_background": "light"
     },
     "output_type": "display_data"
    }
   ],
   "source": [
    "#Ploting Age(Years) vs Gender \n",
    "\n",
    "plt.figure(figsize=(10,5))\n",
    "sns.histplot(x='Age(Years)' ,hue='Gender' , data=online_education ,element=\"poly\", palette=('#24b1d1', '#ae24d1') );\n",
    "plt.title(\"Age(Years) Vs Gender Histogram\")\n",
    "plt.grid()"
   ]
  },
  {
   "cell_type": "markdown",
   "metadata": {},
   "source": [
    "###### As per the graph, we can see that we have more students who prefer online education with age around 17 to 23."
   ]
  },
  {
   "cell_type": "code",
   "execution_count": 12,
   "metadata": {},
   "outputs": [
    {
     "data": {
      "image/png": "[encoded data removed]",
      "text/plain": [
       "<Figure size 720x360 with 1 Axes>"
      ]
     },
     "metadata": {
      "needs_background": "light"
     },
     "output_type": "display_data"
    }
   ],
   "source": [
    "#Ploting Number of Subjects vs Gender \n",
    "\n",
    "plt.figure(figsize=(10,5))\n",
    "sns.histplot(x='Number of Subjects' ,hue='Gender' , data=online_education ,element=\"poly\", palette=('#24b1d1', '#ae24d1') );\n",
    "plt.title(\"Number of Subjects Vs Gender Histogram\")\n",
    "plt.grid()"
   ]
  },
  {
   "cell_type": "markdown",
   "metadata": {},
   "source": [
    "###### From the graph, we can say that most of the students are enrolling from 5 to 8 subjects."
   ]
  },
  {
   "cell_type": "code",
   "execution_count": 13,
   "metadata": {},
   "outputs": [
    {
     "data": {
      "image/png": "[encoded data removed]",
      "text/plain": [
       "<Figure size 720x360 with 1 Axes>"
      ]
     },
     "metadata": {
      "needs_background": "light"
     },
     "output_type": "display_data"
    }
   ],
   "source": [
    "#Relation between Your level of satisfaction in Online Education and Performance in online\n",
    "\n",
    "plt.figure(figsize=(10,5))\n",
    "sns.histplot(x='Your level of satisfaction in Online Education' ,hue='Performance in online' , data=online_education , palette=\"viridis\",edgecolor='black')\n",
    "plt.title(\"Your level of satisfaction in Online Education vs Performance in online\")\n",
    "plt.grid()"
   ]
  },
  {
   "cell_type": "markdown",
   "metadata": {},
   "source": [
    "###### From the above figure, we can say that most of the students are having average satisfication in online education."
   ]
  },
  {
   "cell_type": "code",
   "execution_count": 14,
   "metadata": {},
   "outputs": [
    {
     "data": {
      "text/plain": [
       "<AxesSubplot:xlabel='Performance in online', ylabel='Clearing doubts with faculties in online mode'>"
      ]
     },
     "execution_count": 14,
     "metadata": {},
     "output_type": "execute_result"
    },
    {
     "data": {
      "image/png": "[encoded data removed]",
      "text/plain": [
       "<Figure size 432x288 with 1 Axes>"
      ]
     },
     "metadata": {
      "needs_background": "light"
     },
     "output_type": "display_data"
    }
   ],
   "source": [
    "#Performance in online vs Clearing doubts with faculties in online mode \n",
    "\n",
    "sns.regplot(x= 'Performance in online', y= 'Clearing doubts with faculties in online mode', data = online_education)"
   ]
  },
  {
   "cell_type": "markdown",
   "metadata": {},
   "source": [
    "###### The above graph shows that the performance is directly related or positively related to the clarification of the doubts on a timely basis."
   ]
  },
  {
   "cell_type": "code",
   "execution_count": 15,
   "metadata": {},
   "outputs": [
    {
     "data": {
      "text/html": [
       "<div>\n",
       "<style scoped>\n",
       "    .dataframe tbody tr th:only-of-type {\n",
       "        vertical-align: middle;\n",
       "    }\n",
       "\n",
       "    .dataframe tbody tr th {\n",
       "        vertical-align: top;\n",
       "    }\n",
       "\n",
       "    .dataframe thead th {\n",
       "        text-align: right;\n",
       "    }\n",
       "</style>\n",
       "<table border=\"1\" class=\"dataframe\">\n",
       "  <thead>\n",
       "    <tr style=\"text-align: right;\">\n",
       "      <th>Home Location</th>\n",
       "      <th>Rural</th>\n",
       "      <th>Urban</th>\n",
       "    </tr>\n",
       "    <tr>\n",
       "      <th>Engaged in group studies?</th>\n",
       "      <th></th>\n",
       "      <th></th>\n",
       "    </tr>\n",
       "  </thead>\n",
       "  <tbody>\n",
       "    <tr>\n",
       "      <th>No</th>\n",
       "      <td>6.545455</td>\n",
       "      <td>6.510101</td>\n",
       "    </tr>\n",
       "    <tr>\n",
       "      <th>yes</th>\n",
       "      <td>7.000000</td>\n",
       "      <td>6.929329</td>\n",
       "    </tr>\n",
       "  </tbody>\n",
       "</table>\n",
       "</div>"
      ],
      "text/plain": [
       "Home Location                 Rural     Urban\n",
       "Engaged in group studies?                    \n",
       "No                         6.545455  6.510101\n",
       "yes                        7.000000  6.929329"
      ]
     },
     "execution_count": 15,
     "metadata": {},
     "output_type": "execute_result"
    }
   ],
   "source": [
    "#Comparing between Home location vs Engaged in group studies\n",
    "\n",
    "online_education.pivot_table(values='Performance in online', index='Engaged in group studies?', columns='Home Location', aggfunc='mean')"
   ]
  },
  {
   "cell_type": "markdown",
   "metadata": {},
   "source": [
    "###### From the above table, it is clearly shown by engaging the in the group studies there is an improvement in the performance when compared to the people who are not engaged."
   ]
  },
  {
   "cell_type": "code",
   "execution_count": 16,
   "metadata": {},
   "outputs": [
    {
     "data": {
      "text/html": [
       "<div>\n",
       "<style scoped>\n",
       "    .dataframe tbody tr th:only-of-type {\n",
       "        vertical-align: middle;\n",
       "    }\n",
       "\n",
       "    .dataframe tbody tr th {\n",
       "        vertical-align: top;\n",
       "    }\n",
       "\n",
       "    .dataframe thead th {\n",
       "        text-align: right;\n",
       "    }\n",
       "</style>\n",
       "<table border=\"1\" class=\"dataframe\">\n",
       "  <thead>\n",
       "    <tr style=\"text-align: right;\">\n",
       "      <th>Gender</th>\n",
       "      <th>Female</th>\n",
       "      <th>Male</th>\n",
       "    </tr>\n",
       "    <tr>\n",
       "      <th>Home Location</th>\n",
       "      <th></th>\n",
       "      <th></th>\n",
       "    </tr>\n",
       "  </thead>\n",
       "  <tbody>\n",
       "    <tr>\n",
       "      <th>Rural</th>\n",
       "      <td>127</td>\n",
       "      <td>227</td>\n",
       "    </tr>\n",
       "    <tr>\n",
       "      <th>Urban</th>\n",
       "      <td>292</td>\n",
       "      <td>387</td>\n",
       "    </tr>\n",
       "  </tbody>\n",
       "</table>\n",
       "</div>"
      ],
      "text/plain": [
       "Gender         Female  Male\n",
       "Home Location              \n",
       "Rural             127   227\n",
       "Urban             292   387"
      ]
     },
     "execution_count": 16,
     "metadata": {},
     "output_type": "execute_result"
    }
   ],
   "source": [
    "#Comparing between Home location vs Gender\n",
    "\n",
    "online_education.pivot_table(values='sno', index='Home Location', columns='Gender', aggfunc='count')"
   ]
  },
  {
   "cell_type": "markdown",
   "metadata": {},
   "source": [
    "###### from the above table it is clearly shows that the female in the rural areas are less participating when compared to the female students living in the urban areas. Overall the female students ratio is less when compared to that of the male student's ratio."
   ]
  },
  {
   "cell_type": "code",
   "execution_count": 17,
   "metadata": {},
   "outputs": [
    {
     "data": {
      "text/html": [
       "<div>\n",
       "<style scoped>\n",
       "    .dataframe tbody tr th:only-of-type {\n",
       "        vertical-align: middle;\n",
       "    }\n",
       "\n",
       "    .dataframe tbody tr th {\n",
       "        vertical-align: top;\n",
       "    }\n",
       "\n",
       "    .dataframe thead th {\n",
       "        text-align: right;\n",
       "    }\n",
       "</style>\n",
       "<table border=\"1\" class=\"dataframe\">\n",
       "  <thead>\n",
       "    <tr style=\"text-align: right;\">\n",
       "      <th></th>\n",
       "      <th></th>\n",
       "      <th>Age(Years)</th>\n",
       "      <th>Clearing doubts with faculties in online mode</th>\n",
       "      <th>Family size</th>\n",
       "      <th>Internet facility in your locality</th>\n",
       "      <th>Number of Subjects</th>\n",
       "      <th>Performance in online</th>\n",
       "      <th>Sleep time (Hours)</th>\n",
       "      <th>Study time (Hours)</th>\n",
       "      <th>Time spent on social media (Hours)</th>\n",
       "      <th>Your interaction in online mode</th>\n",
       "      <th>sno</th>\n",
       "    </tr>\n",
       "    <tr>\n",
       "      <th>Home Location</th>\n",
       "      <th>Gender</th>\n",
       "      <th></th>\n",
       "      <th></th>\n",
       "      <th></th>\n",
       "      <th></th>\n",
       "      <th></th>\n",
       "      <th></th>\n",
       "      <th></th>\n",
       "      <th></th>\n",
       "      <th></th>\n",
       "      <th></th>\n",
       "      <th></th>\n",
       "    </tr>\n",
       "  </thead>\n",
       "  <tbody>\n",
       "    <tr>\n",
       "      <th rowspan=\"2\" valign=\"top\">Rural</th>\n",
       "      <th>Female</th>\n",
       "      <td>20.031496</td>\n",
       "      <td>3.251969</td>\n",
       "      <td>4.574803</td>\n",
       "      <td>3.259843</td>\n",
       "      <td>6.606299</td>\n",
       "      <td>7.181102</td>\n",
       "      <td>6.834646</td>\n",
       "      <td>4.818898</td>\n",
       "      <td>2.511811</td>\n",
       "      <td>3.338583</td>\n",
       "      <td>591.133858</td>\n",
       "    </tr>\n",
       "    <tr>\n",
       "      <th>Male</th>\n",
       "      <td>19.647577</td>\n",
       "      <td>2.828194</td>\n",
       "      <td>4.515419</td>\n",
       "      <td>3.140969</td>\n",
       "      <td>7.414097</td>\n",
       "      <td>6.458150</td>\n",
       "      <td>7.185022</td>\n",
       "      <td>4.321586</td>\n",
       "      <td>2.414097</td>\n",
       "      <td>2.867841</td>\n",
       "      <td>620.502203</td>\n",
       "    </tr>\n",
       "    <tr>\n",
       "      <th rowspan=\"2\" valign=\"top\">Urban</th>\n",
       "      <th>Female</th>\n",
       "      <td>19.928082</td>\n",
       "      <td>2.900685</td>\n",
       "      <td>4.383562</td>\n",
       "      <td>3.852740</td>\n",
       "      <td>6.592466</td>\n",
       "      <td>6.856164</td>\n",
       "      <td>6.979452</td>\n",
       "      <td>4.421233</td>\n",
       "      <td>2.904110</td>\n",
       "      <td>3.020548</td>\n",
       "      <td>476.989726</td>\n",
       "    </tr>\n",
       "    <tr>\n",
       "      <th>Male</th>\n",
       "      <td>19.713178</td>\n",
       "      <td>2.648579</td>\n",
       "      <td>4.322997</td>\n",
       "      <td>3.754522</td>\n",
       "      <td>7.286822</td>\n",
       "      <td>6.555556</td>\n",
       "      <td>6.821705</td>\n",
       "      <td>4.093023</td>\n",
       "      <td>2.607235</td>\n",
       "      <td>2.764858</td>\n",
       "      <td>462.149871</td>\n",
       "    </tr>\n",
       "  </tbody>\n",
       "</table>\n",
       "</div>"
      ],
      "text/plain": [
       "                      Age(Years)  \\\n",
       "Home Location Gender               \n",
       "Rural         Female   20.031496   \n",
       "              Male     19.647577   \n",
       "Urban         Female   19.928082   \n",
       "              Male     19.713178   \n",
       "\n",
       "                      Clearing doubts with faculties in online mode  \\\n",
       "Home Location Gender                                                  \n",
       "Rural         Female                                       3.251969   \n",
       "              Male                                         2.828194   \n",
       "Urban         Female                                       2.900685   \n",
       "              Male                                         2.648579   \n",
       "\n",
       "                      Family size  Internet facility in your locality  \\\n",
       "Home Location Gender                                                    \n",
       "Rural         Female     4.574803                            3.259843   \n",
       "              Male       4.515419                            3.140969   \n",
       "Urban         Female     4.383562                            3.852740   \n",
       "              Male       4.322997                            3.754522   \n",
       "\n",
       "                      Number of Subjects  Performance in online  \\\n",
       "Home Location Gender                                              \n",
       "Rural         Female            6.606299               7.181102   \n",
       "              Male              7.414097               6.458150   \n",
       "Urban         Female            6.592466               6.856164   \n",
       "              Male              7.286822               6.555556   \n",
       "\n",
       "                      Sleep time (Hours)  Study time (Hours)  \\\n",
       "Home Location Gender                                           \n",
       "Rural         Female            6.834646            4.818898   \n",
       "              Male              7.185022            4.321586   \n",
       "Urban         Female            6.979452            4.421233   \n",
       "              Male              6.821705            4.093023   \n",
       "\n",
       "                      Time spent on social media (Hours)  \\\n",
       "Home Location Gender                                       \n",
       "Rural         Female                            2.511811   \n",
       "              Male                              2.414097   \n",
       "Urban         Female                            2.904110   \n",
       "              Male                              2.607235   \n",
       "\n",
       "                      Your interaction in online mode         sno  \n",
       "Home Location Gender                                               \n",
       "Rural         Female                         3.338583  591.133858  \n",
       "              Male                           2.867841  620.502203  \n",
       "Urban         Female                         3.020548  476.989726  \n",
       "              Male                           2.764858  462.149871  "
      ]
     },
     "execution_count": 17,
     "metadata": {},
     "output_type": "execute_result"
    }
   ],
   "source": [
    "table1 = pd.pivot_table(online_education,index =['Home Location','Gender'])\n",
    "table1"
   ]
  },
  {
   "cell_type": "markdown",
   "metadata": {},
   "source": [
    "###### From the above table, it clearly shows that sleep time is more which is on average they are sleeping for 7 hours and it is sufficient. moreover, There is an average study time is more than 4 hours, and social media is half of the time spent on the studies."
   ]
  },
  {
   "cell_type": "code",
   "execution_count": 18,
   "metadata": {},
   "outputs": [
    {
     "data": {
      "text/plain": [
       "<AxesSubplot:xlabel='Performance in online', ylabel='Your interaction in online mode'>"
      ]
     },
     "execution_count": 18,
     "metadata": {},
     "output_type": "execute_result"
    },
    {
     "data": {
      "image/png": "[encoded data removed]",
      "text/plain": [
       "<Figure size 432x288 with 1 Axes>"
      ]
     },
     "metadata": {
      "needs_background": "light"
     },
     "output_type": "display_data"
    }
   ],
   "source": [
    "#Performance in online vs Your interaction in online mode\n",
    "\n",
    "sns.regplot(x= 'Performance in online', y= 'Your interaction in online mode', data = online_education)"
   ]
  },
  {
   "cell_type": "markdown",
   "metadata": {},
   "source": [
    "###### From the above graph, it is clearly stated that online interaction is directly proportional to performance."
   ]
  },
  {
   "cell_type": "code",
   "execution_count": 19,
   "metadata": {},
   "outputs": [
    {
     "data": {
      "text/plain": [
       "<AxesSubplot:xlabel='Performance in online', ylabel='Internet facility in your locality'>"
      ]
     },
     "execution_count": 19,
     "metadata": {},
     "output_type": "execute_result"
    },
    {
     "data": {
      "image/png": "[encoded data removed]",
      "text/plain": [
       "<Figure size 432x288 with 1 Axes>"
      ]
     },
     "metadata": {
      "needs_background": "light"
     },
     "output_type": "display_data"
    }
   ],
   "source": [
    "#Performance in online vs Internet facility in your locality\n",
    "\n",
    "sns.regplot(x= 'Performance in online', y= 'Internet facility in your locality', data = online_education)"
   ]
  },
  {
   "cell_type": "code",
   "execution_count": null,
   "metadata": {},
   "outputs": [],
   "source": []
  },
  {
   "cell_type": "markdown",
   "metadata": {},
   "source": [
    "###### From the plot, we can say that performance in online education is gradually increasing with respect to internet facilities in your locality."
   ]
  },
  {
   "cell_type": "code",
   "execution_count": 20,
   "metadata": {},
   "outputs": [
    {
     "data": {
      "text/plain": [
       "<AxesSubplot:xlabel='Performance in online', ylabel='Time spent on social media (Hours)'>"
      ]
     },
     "execution_count": 20,
     "metadata": {},
     "output_type": "execute_result"
    },
    {
     "data": {
      "image/png": "[encoded data removed]",
      "text/plain": [
       "<Figure size 432x288 with 1 Axes>"
      ]
     },
     "metadata": {
      "needs_background": "light"
     },
     "output_type": "display_data"
    }
   ],
   "source": [
    "#Performance in online vs Time spent on social media (Hours)\n",
    "\n",
    "sns.regplot(x= 'Performance in online', y= 'Time spent on social media (Hours)', data = online_education)"
   ]
  },
  {
   "cell_type": "markdown",
   "metadata": {},
   "source": [
    "###### From the plot, we can say that performance in online education is slowly increasing when time spent on social media decreases."
   ]
  },
  {
   "cell_type": "code",
   "execution_count": 21,
   "metadata": {},
   "outputs": [
    {
     "data": {
      "text/html": [
       "<div>\n",
       "<style scoped>\n",
       "    .dataframe tbody tr th:only-of-type {\n",
       "        vertical-align: middle;\n",
       "    }\n",
       "\n",
       "    .dataframe tbody tr th {\n",
       "        vertical-align: top;\n",
       "    }\n",
       "\n",
       "    .dataframe thead th {\n",
       "        text-align: right;\n",
       "    }\n",
       "</style>\n",
       "<table border=\"1\" class=\"dataframe\">\n",
       "  <thead>\n",
       "    <tr style=\"text-align: right;\">\n",
       "      <th>Home Location</th>\n",
       "      <th>Rural</th>\n",
       "      <th>Urban</th>\n",
       "    </tr>\n",
       "    <tr>\n",
       "      <th>Have separate room for studying?</th>\n",
       "      <th></th>\n",
       "      <th></th>\n",
       "    </tr>\n",
       "  </thead>\n",
       "  <tbody>\n",
       "    <tr>\n",
       "      <th>No</th>\n",
       "      <td>6.630952</td>\n",
       "      <td>6.451362</td>\n",
       "    </tr>\n",
       "    <tr>\n",
       "      <th>Yes</th>\n",
       "      <td>6.795699</td>\n",
       "      <td>6.827014</td>\n",
       "    </tr>\n",
       "  </tbody>\n",
       "</table>\n",
       "</div>"
      ],
      "text/plain": [
       "Home Location                        Rural     Urban\n",
       "Have separate room for studying?                    \n",
       "No                                6.630952  6.451362\n",
       "Yes                               6.795699  6.827014"
      ]
     },
     "execution_count": 21,
     "metadata": {},
     "output_type": "execute_result"
    }
   ],
   "source": [
    "#Home location vs Have separate room for studying\n",
    "\n",
    "online_education.pivot_table(values='Performance in online', index='Have separate room for studying?', columns='Home Location', aggfunc='mean')"
   ]
  },
  {
   "cell_type": "markdown",
   "metadata": {},
   "source": [
    "###### Students in Urban area are having separate room for studying perform slightly better than rural area. Students in rural area not  having separate room for studying perform slightly better than urban area."
   ]
  },
  {
   "cell_type": "code",
   "execution_count": 22,
   "metadata": {},
   "outputs": [
    {
     "data": {
      "text/html": [
       "<div>\n",
       "<style scoped>\n",
       "    .dataframe tbody tr th:only-of-type {\n",
       "        vertical-align: middle;\n",
       "    }\n",
       "\n",
       "    .dataframe tbody tr th {\n",
       "        vertical-align: top;\n",
       "    }\n",
       "\n",
       "    .dataframe thead th {\n",
       "        text-align: right;\n",
       "    }\n",
       "</style>\n",
       "<table border=\"1\" class=\"dataframe\">\n",
       "  <thead>\n",
       "    <tr style=\"text-align: right;\">\n",
       "      <th>Home Location</th>\n",
       "      <th>Rural</th>\n",
       "      <th>Urban</th>\n",
       "    </tr>\n",
       "    <tr>\n",
       "      <th>Device type used to attend classes</th>\n",
       "      <th></th>\n",
       "      <th></th>\n",
       "    </tr>\n",
       "  </thead>\n",
       "  <tbody>\n",
       "    <tr>\n",
       "      <th>Desktop</th>\n",
       "      <td>6.900000</td>\n",
       "      <td>6.941176</td>\n",
       "    </tr>\n",
       "    <tr>\n",
       "      <th>Laptop</th>\n",
       "      <td>6.543210</td>\n",
       "      <td>6.641176</td>\n",
       "    </tr>\n",
       "    <tr>\n",
       "      <th>Mobile</th>\n",
       "      <td>6.862637</td>\n",
       "      <td>6.802632</td>\n",
       "    </tr>\n",
       "  </tbody>\n",
       "</table>\n",
       "</div>"
      ],
      "text/plain": [
       "Home Location                          Rural     Urban\n",
       "Device type used to attend classes                    \n",
       "Desktop                             6.900000  6.941176\n",
       "Laptop                              6.543210  6.641176\n",
       "Mobile                              6.862637  6.802632"
      ]
     },
     "execution_count": 22,
     "metadata": {},
     "output_type": "execute_result"
    }
   ],
   "source": [
    "#Home location vs Device type used to attend classes\n",
    "\n",
    "online_education.pivot_table(values='Performance in online', index='Device type used to attend classes', columns='Home Location', aggfunc='mean')"
   ]
  },
  {
   "cell_type": "markdown",
   "metadata": {},
   "source": [
    "###### Students staying in rural and urban areas are performing better using desktop rather than laptop or mobile."
   ]
  },
  {
   "cell_type": "code",
   "execution_count": 23,
   "metadata": {},
   "outputs": [
    {
     "data": {
      "text/html": [
       "<div>\n",
       "<style scoped>\n",
       "    .dataframe tbody tr th:only-of-type {\n",
       "        vertical-align: middle;\n",
       "    }\n",
       "\n",
       "    .dataframe tbody tr th {\n",
       "        vertical-align: top;\n",
       "    }\n",
       "\n",
       "    .dataframe thead th {\n",
       "        text-align: right;\n",
       "    }\n",
       "</style>\n",
       "<table border=\"1\" class=\"dataframe\">\n",
       "  <thead>\n",
       "    <tr style=\"text-align: right;\">\n",
       "      <th>Home Location</th>\n",
       "      <th>Rural</th>\n",
       "      <th>Urban</th>\n",
       "    </tr>\n",
       "    <tr>\n",
       "      <th>Economic status</th>\n",
       "      <th></th>\n",
       "      <th></th>\n",
       "    </tr>\n",
       "  </thead>\n",
       "  <tbody>\n",
       "    <tr>\n",
       "      <th>Middle Class</th>\n",
       "      <td>6.721519</td>\n",
       "      <td>6.680251</td>\n",
       "    </tr>\n",
       "    <tr>\n",
       "      <th>Poor</th>\n",
       "      <td>6.485714</td>\n",
       "      <td>6.071429</td>\n",
       "    </tr>\n",
       "    <tr>\n",
       "      <th>Rich</th>\n",
       "      <td>9.000000</td>\n",
       "      <td>7.111111</td>\n",
       "    </tr>\n",
       "  </tbody>\n",
       "</table>\n",
       "</div>"
      ],
      "text/plain": [
       "Home Location       Rural     Urban\n",
       "Economic status                    \n",
       "Middle Class     6.721519  6.680251\n",
       "Poor             6.485714  6.071429\n",
       "Rich             9.000000  7.111111"
      ]
     },
     "execution_count": 23,
     "metadata": {},
     "output_type": "execute_result"
    }
   ],
   "source": [
    "#Home location vs Economic status\n",
    "\n",
    "online_education.pivot_table(values='Performance in online', index='Economic status', columns='Home Location', aggfunc='mean')"
   ]
  },
  {
   "cell_type": "code",
   "execution_count": 24,
   "metadata": {},
   "outputs": [
    {
     "data": {
      "text/plain": [
       "<AxesSubplot:xlabel='Performance in online', ylabel='Family size'>"
      ]
     },
     "execution_count": 24,
     "metadata": {},
     "output_type": "execute_result"
    },
    {
     "data": {
      "image/png": "[encoded data removed]",
      "text/plain": [
       "<Figure size 432x288 with 1 Axes>"
      ]
     },
     "metadata": {
      "needs_background": "light"
     },
     "output_type": "display_data"
    }
   ],
   "source": [
    "#Performance in online vs Family size\n",
    "\n",
    "sns.regplot(x= 'Performance in online', y= 'Family size', data = online_education)"
   ]
  },
  {
   "cell_type": "markdown",
   "metadata": {},
   "source": [
    "###### From the plot we can say that there performance in online education is not related to Family size. So we will not consider this variable for analysis."
   ]
  },
  {
   "cell_type": "code",
   "execution_count": 25,
   "metadata": {},
   "outputs": [
    {
     "data": {
      "text/html": [
       "<div>\n",
       "<style scoped>\n",
       "    .dataframe tbody tr th:only-of-type {\n",
       "        vertical-align: middle;\n",
       "    }\n",
       "\n",
       "    .dataframe tbody tr th {\n",
       "        vertical-align: top;\n",
       "    }\n",
       "\n",
       "    .dataframe thead th {\n",
       "        text-align: right;\n",
       "    }\n",
       "</style>\n",
       "<table border=\"1\" class=\"dataframe\">\n",
       "  <thead>\n",
       "    <tr style=\"text-align: right;\">\n",
       "      <th>Interested in?</th>\n",
       "      <th>Both</th>\n",
       "      <th>Practical</th>\n",
       "      <th>Theory</th>\n",
       "    </tr>\n",
       "    <tr>\n",
       "      <th>Level of Education</th>\n",
       "      <th></th>\n",
       "      <th></th>\n",
       "      <th></th>\n",
       "    </tr>\n",
       "  </thead>\n",
       "  <tbody>\n",
       "    <tr>\n",
       "      <th>Post Graduate</th>\n",
       "      <td>33</td>\n",
       "      <td>68</td>\n",
       "      <td>28</td>\n",
       "    </tr>\n",
       "    <tr>\n",
       "      <th>School</th>\n",
       "      <td>29</td>\n",
       "      <td>36</td>\n",
       "      <td>22</td>\n",
       "    </tr>\n",
       "    <tr>\n",
       "      <th>Under Graduate</th>\n",
       "      <td>285</td>\n",
       "      <td>335</td>\n",
       "      <td>197</td>\n",
       "    </tr>\n",
       "  </tbody>\n",
       "</table>\n",
       "</div>"
      ],
      "text/plain": [
       "Interested in?      Both  Practical  Theory\n",
       "Level of Education                         \n",
       "Post Graduate         33         68      28\n",
       "School                29         36      22\n",
       "Under Graduate       285        335     197"
      ]
     },
     "execution_count": 25,
     "metadata": {},
     "output_type": "execute_result"
    }
   ],
   "source": [
    "#Level of Education vs Interested in?\n",
    "\n",
    "online_education.pivot_table(values='sno', index='Level of Education', columns='Interested in?', aggfunc='count')"
   ]
  },
  {
   "cell_type": "markdown",
   "metadata": {},
   "source": [
    "###### Undergraduate students are more interested in the practical, theory and both."
   ]
  },
  {
   "cell_type": "code",
   "execution_count": 26,
   "metadata": {},
   "outputs": [
    {
     "data": {
      "text/html": [
       "<div>\n",
       "<style scoped>\n",
       "    .dataframe tbody tr th:only-of-type {\n",
       "        vertical-align: middle;\n",
       "    }\n",
       "\n",
       "    .dataframe tbody tr th {\n",
       "        vertical-align: top;\n",
       "    }\n",
       "\n",
       "    .dataframe thead th {\n",
       "        text-align: right;\n",
       "    }\n",
       "</style>\n",
       "<table border=\"1\" class=\"dataframe\">\n",
       "  <thead>\n",
       "    <tr style=\"text-align: right;\">\n",
       "      <th>Your level of satisfaction in Online Education</th>\n",
       "      <th>Average</th>\n",
       "      <th>Bad</th>\n",
       "      <th>Good</th>\n",
       "    </tr>\n",
       "    <tr>\n",
       "      <th>Level of Education</th>\n",
       "      <th></th>\n",
       "      <th></th>\n",
       "      <th></th>\n",
       "    </tr>\n",
       "  </thead>\n",
       "  <tbody>\n",
       "    <tr>\n",
       "      <th>Post Graduate</th>\n",
       "      <td>70</td>\n",
       "      <td>22</td>\n",
       "      <td>37</td>\n",
       "    </tr>\n",
       "    <tr>\n",
       "      <th>School</th>\n",
       "      <td>41</td>\n",
       "      <td>22</td>\n",
       "      <td>24</td>\n",
       "    </tr>\n",
       "    <tr>\n",
       "      <th>Under Graduate</th>\n",
       "      <td>430</td>\n",
       "      <td>197</td>\n",
       "      <td>190</td>\n",
       "    </tr>\n",
       "  </tbody>\n",
       "</table>\n",
       "</div>"
      ],
      "text/plain": [
       "Your level of satisfaction in Online Education  Average  Bad  Good\n",
       "Level of Education                                                \n",
       "Post Graduate                                        70   22    37\n",
       "School                                               41   22    24\n",
       "Under Graduate                                      430  197   190"
      ]
     },
     "execution_count": 26,
     "metadata": {},
     "output_type": "execute_result"
    }
   ],
   "source": [
    "#Level of Education vs Your level of satisfaction in Online Education\n",
    "\n",
    "online_education.pivot_table(values='sno', index='Level of Education', columns='Your level of satisfaction in Online Education', aggfunc='count')"
   ]
  },
  {
   "cell_type": "markdown",
   "metadata": {},
   "source": [
    "###### More number of undergraduate students are averagly satisfied than school and post graduate students."
   ]
  },
  {
   "cell_type": "markdown",
   "metadata": {},
   "source": [
    "## Missing Values"
   ]
  },
  {
   "cell_type": "code",
   "execution_count": 27,
   "metadata": {},
   "outputs": [
    {
     "data": {
      "text/html": [
       "<div>\n",
       "<style scoped>\n",
       "    .dataframe tbody tr th:only-of-type {\n",
       "        vertical-align: middle;\n",
       "    }\n",
       "\n",
       "    .dataframe tbody tr th {\n",
       "        vertical-align: top;\n",
       "    }\n",
       "\n",
       "    .dataframe thead th {\n",
       "        text-align: right;\n",
       "    }\n",
       "</style>\n",
       "<table border=\"1\" class=\"dataframe\">\n",
       "  <thead>\n",
       "    <tr style=\"text-align: right;\">\n",
       "      <th></th>\n",
       "      <th>Gender</th>\n",
       "      <th>Home Location</th>\n",
       "      <th>Level of Education</th>\n",
       "      <th>Age(Years)</th>\n",
       "      <th>Number of Subjects</th>\n",
       "      <th>Device type used to attend classes</th>\n",
       "      <th>Economic status</th>\n",
       "      <th>Family size</th>\n",
       "      <th>Internet facility in your locality</th>\n",
       "      <th>Are you involved in any sports?</th>\n",
       "      <th>...</th>\n",
       "      <th>Interested in Gaming?</th>\n",
       "      <th>Have separate room for studying?</th>\n",
       "      <th>Engaged in group studies?</th>\n",
       "      <th>Average marks scored before pandemic in traditional classroom</th>\n",
       "      <th>Your interaction in online mode</th>\n",
       "      <th>Clearing doubts with faculties in online mode</th>\n",
       "      <th>Interested in?</th>\n",
       "      <th>Performance in online</th>\n",
       "      <th>Your level of satisfaction in Online Education</th>\n",
       "      <th>sno</th>\n",
       "    </tr>\n",
       "  </thead>\n",
       "  <tbody>\n",
       "    <tr>\n",
       "      <th>0</th>\n",
       "      <td>Male</td>\n",
       "      <td>Urban</td>\n",
       "      <td>Under Graduate</td>\n",
       "      <td>18</td>\n",
       "      <td>11</td>\n",
       "      <td>Laptop</td>\n",
       "      <td>Middle Class</td>\n",
       "      <td>4</td>\n",
       "      <td>5</td>\n",
       "      <td>No</td>\n",
       "      <td>...</td>\n",
       "      <td>No</td>\n",
       "      <td>No</td>\n",
       "      <td>No</td>\n",
       "      <td>91-100</td>\n",
       "      <td>1</td>\n",
       "      <td>1</td>\n",
       "      <td>Practical</td>\n",
       "      <td>6</td>\n",
       "      <td>Average</td>\n",
       "      <td>1</td>\n",
       "    </tr>\n",
       "    <tr>\n",
       "      <th>1</th>\n",
       "      <td>Male</td>\n",
       "      <td>Urban</td>\n",
       "      <td>Under Graduate</td>\n",
       "      <td>19</td>\n",
       "      <td>7</td>\n",
       "      <td>Laptop</td>\n",
       "      <td>Middle Class</td>\n",
       "      <td>4</td>\n",
       "      <td>1</td>\n",
       "      <td>Yes</td>\n",
       "      <td>...</td>\n",
       "      <td>Yes</td>\n",
       "      <td>Yes</td>\n",
       "      <td>No</td>\n",
       "      <td>91-100</td>\n",
       "      <td>1</td>\n",
       "      <td>1</td>\n",
       "      <td>Theory</td>\n",
       "      <td>3</td>\n",
       "      <td>Bad</td>\n",
       "      <td>2</td>\n",
       "    </tr>\n",
       "    <tr>\n",
       "      <th>2</th>\n",
       "      <td>Male</td>\n",
       "      <td>Rural</td>\n",
       "      <td>Under Graduate</td>\n",
       "      <td>18</td>\n",
       "      <td>5</td>\n",
       "      <td>Laptop</td>\n",
       "      <td>Middle Class</td>\n",
       "      <td>5</td>\n",
       "      <td>2</td>\n",
       "      <td>No</td>\n",
       "      <td>...</td>\n",
       "      <td>No</td>\n",
       "      <td>Yes</td>\n",
       "      <td>No</td>\n",
       "      <td>71-80</td>\n",
       "      <td>1</td>\n",
       "      <td>1</td>\n",
       "      <td>Both</td>\n",
       "      <td>6</td>\n",
       "      <td>Bad</td>\n",
       "      <td>3</td>\n",
       "    </tr>\n",
       "    <tr>\n",
       "      <th>3</th>\n",
       "      <td>Male</td>\n",
       "      <td>Urban</td>\n",
       "      <td>Under Graduate</td>\n",
       "      <td>18</td>\n",
       "      <td>5</td>\n",
       "      <td>Laptop</td>\n",
       "      <td>Middle Class</td>\n",
       "      <td>4</td>\n",
       "      <td>4</td>\n",
       "      <td>Yes</td>\n",
       "      <td>...</td>\n",
       "      <td>No</td>\n",
       "      <td>No</td>\n",
       "      <td>yes</td>\n",
       "      <td>91-100</td>\n",
       "      <td>1</td>\n",
       "      <td>2</td>\n",
       "      <td>Theory</td>\n",
       "      <td>4</td>\n",
       "      <td>Bad</td>\n",
       "      <td>4</td>\n",
       "    </tr>\n",
       "    <tr>\n",
       "      <th>4</th>\n",
       "      <td>Male</td>\n",
       "      <td>Rural</td>\n",
       "      <td>Under Graduate</td>\n",
       "      <td>18</td>\n",
       "      <td>5</td>\n",
       "      <td>Laptop</td>\n",
       "      <td>Middle Class</td>\n",
       "      <td>4</td>\n",
       "      <td>3</td>\n",
       "      <td>No</td>\n",
       "      <td>...</td>\n",
       "      <td>Yes</td>\n",
       "      <td>Yes</td>\n",
       "      <td>yes</td>\n",
       "      <td>81-90</td>\n",
       "      <td>3</td>\n",
       "      <td>3</td>\n",
       "      <td>Both</td>\n",
       "      <td>6</td>\n",
       "      <td>Average</td>\n",
       "      <td>5</td>\n",
       "    </tr>\n",
       "  </tbody>\n",
       "</table>\n",
       "<p>5 rows × 24 columns</p>\n",
       "</div>"
      ],
      "text/plain": [
       "  Gender Home Location Level of Education  Age(Years)  Number of Subjects  \\\n",
       "0   Male         Urban     Under Graduate          18                  11   \n",
       "1   Male         Urban     Under Graduate          19                   7   \n",
       "2   Male         Rural     Under Graduate          18                   5   \n",
       "3   Male         Urban     Under Graduate          18                   5   \n",
       "4   Male         Rural     Under Graduate          18                   5   \n",
       "\n",
       "  Device type used to attend classes Economic status  Family size  \\\n",
       "0                             Laptop    Middle Class            4   \n",
       "1                             Laptop    Middle Class            4   \n",
       "2                             Laptop    Middle Class            5   \n",
       "3                             Laptop    Middle Class            4   \n",
       "4                             Laptop    Middle Class            4   \n",
       "\n",
       "   Internet facility in your locality Are you involved in any sports?  ...  \\\n",
       "0                                   5                              No  ...   \n",
       "1                                   1                             Yes  ...   \n",
       "2                                   2                              No  ...   \n",
       "3                                   4                             Yes  ...   \n",
       "4                                   3                              No  ...   \n",
       "\n",
       "  Interested in Gaming?  Have separate room for studying?  \\\n",
       "0                    No                                No   \n",
       "1                   Yes                               Yes   \n",
       "2                    No                               Yes   \n",
       "3                    No                                No   \n",
       "4                   Yes                               Yes   \n",
       "\n",
       "   Engaged in group studies?  \\\n",
       "0                         No   \n",
       "1                         No   \n",
       "2                         No   \n",
       "3                        yes   \n",
       "4                        yes   \n",
       "\n",
       "   Average marks scored before pandemic in traditional classroom  \\\n",
       "0                                             91-100               \n",
       "1                                             91-100               \n",
       "2                                              71-80               \n",
       "3                                             91-100               \n",
       "4                                              81-90               \n",
       "\n",
       "  Your interaction in online mode  \\\n",
       "0                               1   \n",
       "1                               1   \n",
       "2                               1   \n",
       "3                               1   \n",
       "4                               3   \n",
       "\n",
       "  Clearing doubts with faculties in online mode Interested in?  \\\n",
       "0                                             1      Practical   \n",
       "1                                             1         Theory   \n",
       "2                                             1           Both   \n",
       "3                                             2         Theory   \n",
       "4                                             3           Both   \n",
       "\n",
       "  Performance in online  Your level of satisfaction in Online Education  sno  \n",
       "0                     6                                         Average    1  \n",
       "1                     3                                             Bad    2  \n",
       "2                     6                                             Bad    3  \n",
       "3                     4                                             Bad    4  \n",
       "4                     6                                         Average    5  \n",
       "\n",
       "[5 rows x 24 columns]"
      ]
     },
     "execution_count": 27,
     "metadata": {},
     "output_type": "execute_result"
    }
   ],
   "source": [
    "#Taking a glance at the null values in the data\n",
    "\n",
    "online_education.isnull()\n",
    "online_education.head()"
   ]
  },
  {
   "cell_type": "markdown",
   "metadata": {},
   "source": [
    "###### No Missing values"
   ]
  },
  {
   "cell_type": "code",
   "execution_count": 28,
   "metadata": {},
   "outputs": [],
   "source": [
    "#Converting to numerical variables\n",
    "\n",
    "online_education[\"int_Gender\"] = \" \"\n",
    "for i in range(len(online_education['Gender'])):\n",
    "    if online_education['Gender'][i] == 'Female':\n",
    "        online_education.loc[i,'int_Gender'] = 0\n",
    "        \n",
    "    elif online_education['Gender'][i] == 'Male':\n",
    "        online_education.loc[i,'int_Gender'] = 1\n",
    "\n",
    "online_education[\"int_HomeLocation\"] = \" \"\n",
    "for i in range(len(online_education['Home Location'])):\n",
    "    if online_education['Home Location'][i] == 'Rural':\n",
    "        online_education.loc[i,'int_HomeLocation'] = 0\n",
    "    elif online_education['Home Location'][i] == 'Urban':\n",
    "        online_education.loc[i,'int_HomeLocation'] = 1\n",
    "\n",
    "online_education[\"int_LevelofEducation\"] = \" \"\n",
    "for i in range(len(online_education['Level of Education'])):\n",
    "    if online_education['Level of Education'][i] == 'School':\n",
    "        online_education.loc[i,'int_LevelofEducation'] = 0\n",
    "    elif online_education['Level of Education'][i] == 'Under Graduate':\n",
    "        online_education.loc[i,'int_LevelofEducation'] = 1\n",
    "    elif online_education['Level of Education'][i] == 'Post Graduate':\n",
    "        online_education.loc[i,'int_LevelofEducation'] = 2\n",
    "\n",
    "online_education['int_DeviceTypeUsedToAttendClassesLevelOEducation']= \" \"\n",
    "for i in range(len(online_education['Level of Education'])):\n",
    "    if online_education['Device type used to attend classes'][i] == 'Mobile':\n",
    "        online_education.loc[i,'int_DeviceTypeUsedToAttendClassesLevelOEducation'] = 0\n",
    "    elif online_education['Device type used to attend classes'][i] == 'Laptop':\n",
    "        online_education.loc[i,'int_DeviceTypeUsedToAttendClassesLevelOEducation'] = 1\n",
    "    elif online_education['Device type used to attend classes'][i] == 'Desktop':\n",
    "        online_education.loc[i,'int_DeviceTypeUsedToAttendClassesLevelOEducation'] = 2\n",
    "\n",
    "online_education['int_EconomicStatus']= \" \"\n",
    "for i in range(len(online_education['Economic status'])):\n",
    "    if online_education['Economic status'][i] == 'Poor':\n",
    "        online_education.loc[i,'int_EconomicStatus'] = 0\n",
    "    elif online_education['Economic status'][i] == 'Middle Class':\n",
    "        online_education.loc[i,'int_EconomicStatus'] = 1\n",
    "    elif online_education['Economic status'][i] == 'Rich':\n",
    "        online_education.loc[i,'int_EconomicStatus'] = 2  \n",
    "\n",
    "online_education['int_Sports']= \" \"\n",
    "for i in range(len(online_education['Are you involved in any sports?'])):\n",
    "    if online_education['Are you involved in any sports?'][i] == 'No':\n",
    "        online_education.loc[i,'int_Sports'] = 0\n",
    "    elif online_education['Are you involved in any sports?'][i] == 'Yes':\n",
    "        online_education.loc[i,'int_Sports'] = 1\n",
    "\n",
    "online_education['int_ElderlyMonitor']= \" \"\n",
    "for i in range(len(online_education['Do elderly people monitor you?'])):\n",
    "    if online_education['Do elderly people monitor you?'][i] == 'No':\n",
    "        online_education.loc[i,'int_ElderlyMonitor'] = 0\n",
    "    elif online_education['Do elderly people monitor you?'][i] == 'Yes':\n",
    "        online_education.loc[i,'int_ElderlyMonitor'] = 1\n",
    "\n",
    "online_education['int_Gaming']= \" \"\n",
    "for i in range(len(online_education['Interested in Gaming?'])):\n",
    "    if online_education['Interested in Gaming?'][i] == 'No':\n",
    "        online_education.loc[i,'int_Gaming'] = 0\n",
    "    elif online_education['Interested in Gaming?'][i] == 'Yes':\n",
    "        online_education.loc[i,'int_Gaming'] = 1 \n",
    "\n",
    "online_education['int_StudyRoom']= \" \"\n",
    "for i in range(len(online_education['Have separate room for studying?'])):\n",
    "    if online_education['Have separate room for studying?'][i] == 'No':\n",
    "        online_education.loc[i,'int_StudyRoom'] = 0\n",
    "    elif online_education['Have separate room for studying?'][i] == 'Yes':\n",
    "        online_education.loc[i,'int_StudyRoom'] = 1 \n",
    "\n",
    "\n",
    "online_education['int_GroupStudies']= \" \"\n",
    "for i in range(len(online_education['Engaged in group studies?'])):\n",
    "    if online_education['Engaged in group studies?'][i] == 'No':\n",
    "        online_education.loc[i,'int_GroupStudies'] = 0\n",
    "    elif online_education['Engaged in group studies?'][i] == 'Yes':\n",
    "        online_education.loc[i,'int_GroupStudies'] = 1\n",
    "    else:\n",
    "       online_education.loc[i,'int_GroupStudies'] = 0\n",
    "\n",
    "online_education['int_InterestedIn']= \" \"\n",
    "for i in range(len(online_education['Interested in?'])):\n",
    "    if online_education['Interested in?'][i] == 'Theory':\n",
    "        online_education.loc[i,'int_InterestedIn'] = 0\n",
    "    elif online_education['Interested in?'][i] == 'Practical':\n",
    "        online_education.loc[i,'int_InterestedIn'] = 1 \n",
    "    elif online_education['Interested in?'][i] == 'Both':\n",
    "        online_education.loc[i,'int_InterestedIn'] = 2\n",
    "\n",
    "online_education['int_SatisfactionInOnlineEducation']= \" \"\n",
    "for i in range(len(online_education['Your level of satisfaction in Online Education'])):\n",
    "    if online_education['Your level of satisfaction in Online Education'][i] == 'Bad':\n",
    "        online_education.loc[i,'int_SatisfactionInOnlineEducation'] = 0\n",
    "    elif online_education['Your level of satisfaction in Online Education'][i] == 'Average':\n",
    "        online_education.loc[i,'int_SatisfactionInOnlineEducation'] = 1 \n",
    "    elif online_education['Your level of satisfaction in Online Education'][i] == 'Good':\n",
    "        online_education.loc[i,'int_SatisfactionInOnlineEducation'] = 2  \n",
    "\n",
    "online_education['int_ClassroomMarks']= \" \"\n",
    "for i in range(len(online_education['Average marks scored before pandemic in traditional classroom'])):\n",
    "    if online_education['Average marks scored before pandemic in traditional classroom'][i] == '0-10':\n",
    "        online_education.loc[i,'int_ClassroomMarks'] = 0\n",
    "    elif online_education['Average marks scored before pandemic in traditional classroom'][i] == '11-20':\n",
    "        online_education.loc[i,'int_ClassroomMarks'] = 1 \n",
    "    elif online_education['Average marks scored before pandemic in traditional classroom'][i] == '21-30':\n",
    "        online_education.loc[i,'int_ClassroomMarks'] = 2 \n",
    "    elif online_education['Average marks scored before pandemic in traditional classroom'][i] == '31-40':\n",
    "        online_education.loc[i,'int_ClassroomMarks'] = 3 \n",
    "    elif online_education['Average marks scored before pandemic in traditional classroom'][i] == '41-50':\n",
    "        online_education.loc[i,'int_ClassroomMarks'] = 4 \n",
    "    elif online_education['Average marks scored before pandemic in traditional classroom'][i] == '51-60':\n",
    "        online_education.loc[i,'int_ClassroomMarks'] = 5 \n",
    "    elif online_education['Average marks scored before pandemic in traditional classroom'][i] == '61-70':\n",
    "        online_education.loc[i,'int_ClassroomMarks'] = 6 \n",
    "    elif online_education['Average marks scored before pandemic in traditional classroom'][i] == '71-80':\n",
    "        online_education.loc[i,'int_ClassroomMarks'] = 7 \n",
    "    elif online_education['Average marks scored before pandemic in traditional classroom'][i] == '81-90':\n",
    "        online_education.loc[i,'int_ClassroomMarks'] = 8 \n",
    "    elif online_education['Average marks scored before pandemic in traditional classroom'][i] == '91-100':\n",
    "        online_education.loc[i,'int_ClassroomMarks'] = 9"
   ]
  },
  {
   "cell_type": "code",
   "execution_count": 29,
   "metadata": {},
   "outputs": [
    {
     "data": {
      "text/html": [
       "<div>\n",
       "<style scoped>\n",
       "    .dataframe tbody tr th:only-of-type {\n",
       "        vertical-align: middle;\n",
       "    }\n",
       "\n",
       "    .dataframe tbody tr th {\n",
       "        vertical-align: top;\n",
       "    }\n",
       "\n",
       "    .dataframe thead th {\n",
       "        text-align: right;\n",
       "    }\n",
       "</style>\n",
       "<table border=\"1\" class=\"dataframe\">\n",
       "  <thead>\n",
       "    <tr style=\"text-align: right;\">\n",
       "      <th></th>\n",
       "      <th>Gender</th>\n",
       "      <th>Home Location</th>\n",
       "      <th>Level of Education</th>\n",
       "      <th>Age(Years)</th>\n",
       "      <th>Number of Subjects</th>\n",
       "      <th>Device type used to attend classes</th>\n",
       "      <th>Economic status</th>\n",
       "      <th>Family size</th>\n",
       "      <th>Internet facility in your locality</th>\n",
       "      <th>Are you involved in any sports?</th>\n",
       "      <th>...</th>\n",
       "      <th>int_DeviceTypeUsedToAttendClassesLevelOEducation</th>\n",
       "      <th>int_EconomicStatus</th>\n",
       "      <th>int_Sports</th>\n",
       "      <th>int_ElderlyMonitor</th>\n",
       "      <th>int_Gaming</th>\n",
       "      <th>int_StudyRoom</th>\n",
       "      <th>int_GroupStudies</th>\n",
       "      <th>int_InterestedIn</th>\n",
       "      <th>int_SatisfactionInOnlineEducation</th>\n",
       "      <th>int_ClassroomMarks</th>\n",
       "    </tr>\n",
       "  </thead>\n",
       "  <tbody>\n",
       "    <tr>\n",
       "      <th>0</th>\n",
       "      <td>Male</td>\n",
       "      <td>Urban</td>\n",
       "      <td>Under Graduate</td>\n",
       "      <td>18</td>\n",
       "      <td>11</td>\n",
       "      <td>Laptop</td>\n",
       "      <td>Middle Class</td>\n",
       "      <td>4</td>\n",
       "      <td>5</td>\n",
       "      <td>No</td>\n",
       "      <td>...</td>\n",
       "      <td>1</td>\n",
       "      <td>1</td>\n",
       "      <td>0</td>\n",
       "      <td>1</td>\n",
       "      <td>0</td>\n",
       "      <td>0</td>\n",
       "      <td>0</td>\n",
       "      <td>1</td>\n",
       "      <td>1</td>\n",
       "      <td>9</td>\n",
       "    </tr>\n",
       "    <tr>\n",
       "      <th>1</th>\n",
       "      <td>Male</td>\n",
       "      <td>Urban</td>\n",
       "      <td>Under Graduate</td>\n",
       "      <td>19</td>\n",
       "      <td>7</td>\n",
       "      <td>Laptop</td>\n",
       "      <td>Middle Class</td>\n",
       "      <td>4</td>\n",
       "      <td>1</td>\n",
       "      <td>Yes</td>\n",
       "      <td>...</td>\n",
       "      <td>1</td>\n",
       "      <td>1</td>\n",
       "      <td>1</td>\n",
       "      <td>1</td>\n",
       "      <td>1</td>\n",
       "      <td>1</td>\n",
       "      <td>0</td>\n",
       "      <td>0</td>\n",
       "      <td>0</td>\n",
       "      <td>9</td>\n",
       "    </tr>\n",
       "    <tr>\n",
       "      <th>2</th>\n",
       "      <td>Male</td>\n",
       "      <td>Rural</td>\n",
       "      <td>Under Graduate</td>\n",
       "      <td>18</td>\n",
       "      <td>5</td>\n",
       "      <td>Laptop</td>\n",
       "      <td>Middle Class</td>\n",
       "      <td>5</td>\n",
       "      <td>2</td>\n",
       "      <td>No</td>\n",
       "      <td>...</td>\n",
       "      <td>1</td>\n",
       "      <td>1</td>\n",
       "      <td>0</td>\n",
       "      <td>1</td>\n",
       "      <td>0</td>\n",
       "      <td>1</td>\n",
       "      <td>0</td>\n",
       "      <td>2</td>\n",
       "      <td>0</td>\n",
       "      <td>7</td>\n",
       "    </tr>\n",
       "    <tr>\n",
       "      <th>3</th>\n",
       "      <td>Male</td>\n",
       "      <td>Urban</td>\n",
       "      <td>Under Graduate</td>\n",
       "      <td>18</td>\n",
       "      <td>5</td>\n",
       "      <td>Laptop</td>\n",
       "      <td>Middle Class</td>\n",
       "      <td>4</td>\n",
       "      <td>4</td>\n",
       "      <td>Yes</td>\n",
       "      <td>...</td>\n",
       "      <td>1</td>\n",
       "      <td>1</td>\n",
       "      <td>1</td>\n",
       "      <td>1</td>\n",
       "      <td>0</td>\n",
       "      <td>0</td>\n",
       "      <td>0</td>\n",
       "      <td>0</td>\n",
       "      <td>0</td>\n",
       "      <td>9</td>\n",
       "    </tr>\n",
       "    <tr>\n",
       "      <th>4</th>\n",
       "      <td>Male</td>\n",
       "      <td>Rural</td>\n",
       "      <td>Under Graduate</td>\n",
       "      <td>18</td>\n",
       "      <td>5</td>\n",
       "      <td>Laptop</td>\n",
       "      <td>Middle Class</td>\n",
       "      <td>4</td>\n",
       "      <td>3</td>\n",
       "      <td>No</td>\n",
       "      <td>...</td>\n",
       "      <td>1</td>\n",
       "      <td>1</td>\n",
       "      <td>0</td>\n",
       "      <td>0</td>\n",
       "      <td>1</td>\n",
       "      <td>1</td>\n",
       "      <td>0</td>\n",
       "      <td>2</td>\n",
       "      <td>1</td>\n",
       "      <td>8</td>\n",
       "    </tr>\n",
       "  </tbody>\n",
       "</table>\n",
       "<p>5 rows × 37 columns</p>\n",
       "</div>"
      ],
      "text/plain": [
       "  Gender Home Location Level of Education  Age(Years)  Number of Subjects  \\\n",
       "0   Male         Urban     Under Graduate          18                  11   \n",
       "1   Male         Urban     Under Graduate          19                   7   \n",
       "2   Male         Rural     Under Graduate          18                   5   \n",
       "3   Male         Urban     Under Graduate          18                   5   \n",
       "4   Male         Rural     Under Graduate          18                   5   \n",
       "\n",
       "  Device type used to attend classes Economic status  Family size  \\\n",
       "0                             Laptop    Middle Class            4   \n",
       "1                             Laptop    Middle Class            4   \n",
       "2                             Laptop    Middle Class            5   \n",
       "3                             Laptop    Middle Class            4   \n",
       "4                             Laptop    Middle Class            4   \n",
       "\n",
       "   Internet facility in your locality Are you involved in any sports?  ...  \\\n",
       "0                                   5                              No  ...   \n",
       "1                                   1                             Yes  ...   \n",
       "2                                   2                              No  ...   \n",
       "3                                   4                             Yes  ...   \n",
       "4                                   3                              No  ...   \n",
       "\n",
       "  int_DeviceTypeUsedToAttendClassesLevelOEducation  int_EconomicStatus  \\\n",
       "0                                                1                   1   \n",
       "1                                                1                   1   \n",
       "2                                                1                   1   \n",
       "3                                                1                   1   \n",
       "4                                                1                   1   \n",
       "\n",
       "   int_Sports  int_ElderlyMonitor int_Gaming int_StudyRoom int_GroupStudies  \\\n",
       "0           0                   1          0             0                0   \n",
       "1           1                   1          1             1                0   \n",
       "2           0                   1          0             1                0   \n",
       "3           1                   1          0             0                0   \n",
       "4           0                   0          1             1                0   \n",
       "\n",
       "  int_InterestedIn  int_SatisfactionInOnlineEducation  int_ClassroomMarks  \n",
       "0                1                                  1                   9  \n",
       "1                0                                  0                   9  \n",
       "2                2                                  0                   7  \n",
       "3                0                                  0                   9  \n",
       "4                2                                  1                   8  \n",
       "\n",
       "[5 rows x 37 columns]"
      ]
     },
     "execution_count": 29,
     "metadata": {},
     "output_type": "execute_result"
    }
   ],
   "source": [
    "online_education.head()"
   ]
  },
  {
   "cell_type": "code",
   "execution_count": 30,
   "metadata": {},
   "outputs": [
    {
     "data": {
      "text/html": [
       "<div>\n",
       "<style scoped>\n",
       "    .dataframe tbody tr th:only-of-type {\n",
       "        vertical-align: middle;\n",
       "    }\n",
       "\n",
       "    .dataframe tbody tr th {\n",
       "        vertical-align: top;\n",
       "    }\n",
       "\n",
       "    .dataframe thead th {\n",
       "        text-align: right;\n",
       "    }\n",
       "</style>\n",
       "<table border=\"1\" class=\"dataframe\">\n",
       "  <thead>\n",
       "    <tr style=\"text-align: right;\">\n",
       "      <th></th>\n",
       "      <th>Age(Years)</th>\n",
       "      <th>Number of Subjects</th>\n",
       "      <th>Family size</th>\n",
       "      <th>Internet facility in your locality</th>\n",
       "      <th>Study time (Hours)</th>\n",
       "      <th>Sleep time (Hours)</th>\n",
       "      <th>Time spent on social media (Hours)</th>\n",
       "      <th>Your interaction in online mode</th>\n",
       "      <th>Clearing doubts with faculties in online mode</th>\n",
       "      <th>Performance in online</th>\n",
       "      <th>...</th>\n",
       "      <th>int_DeviceTypeUsedToAttendClassesLevelOEducation</th>\n",
       "      <th>int_EconomicStatus</th>\n",
       "      <th>int_Sports</th>\n",
       "      <th>int_ElderlyMonitor</th>\n",
       "      <th>int_Gaming</th>\n",
       "      <th>int_StudyRoom</th>\n",
       "      <th>int_GroupStudies</th>\n",
       "      <th>int_InterestedIn</th>\n",
       "      <th>int_SatisfactionInOnlineEducation</th>\n",
       "      <th>int_ClassroomMarks</th>\n",
       "    </tr>\n",
       "  </thead>\n",
       "  <tbody>\n",
       "    <tr>\n",
       "      <th>0</th>\n",
       "      <td>18</td>\n",
       "      <td>11</td>\n",
       "      <td>4</td>\n",
       "      <td>5</td>\n",
       "      <td>3</td>\n",
       "      <td>6</td>\n",
       "      <td>1</td>\n",
       "      <td>1</td>\n",
       "      <td>1</td>\n",
       "      <td>6</td>\n",
       "      <td>...</td>\n",
       "      <td>1</td>\n",
       "      <td>1</td>\n",
       "      <td>0</td>\n",
       "      <td>1</td>\n",
       "      <td>0</td>\n",
       "      <td>0</td>\n",
       "      <td>0</td>\n",
       "      <td>1</td>\n",
       "      <td>1</td>\n",
       "      <td>9</td>\n",
       "    </tr>\n",
       "    <tr>\n",
       "      <th>1</th>\n",
       "      <td>19</td>\n",
       "      <td>7</td>\n",
       "      <td>4</td>\n",
       "      <td>1</td>\n",
       "      <td>7</td>\n",
       "      <td>5</td>\n",
       "      <td>1</td>\n",
       "      <td>1</td>\n",
       "      <td>1</td>\n",
       "      <td>3</td>\n",
       "      <td>...</td>\n",
       "      <td>1</td>\n",
       "      <td>1</td>\n",
       "      <td>1</td>\n",
       "      <td>1</td>\n",
       "      <td>1</td>\n",
       "      <td>1</td>\n",
       "      <td>0</td>\n",
       "      <td>0</td>\n",
       "      <td>0</td>\n",
       "      <td>9</td>\n",
       "    </tr>\n",
       "    <tr>\n",
       "      <th>2</th>\n",
       "      <td>18</td>\n",
       "      <td>5</td>\n",
       "      <td>5</td>\n",
       "      <td>2</td>\n",
       "      <td>6</td>\n",
       "      <td>7</td>\n",
       "      <td>1</td>\n",
       "      <td>1</td>\n",
       "      <td>1</td>\n",
       "      <td>6</td>\n",
       "      <td>...</td>\n",
       "      <td>1</td>\n",
       "      <td>1</td>\n",
       "      <td>0</td>\n",
       "      <td>1</td>\n",
       "      <td>0</td>\n",
       "      <td>1</td>\n",
       "      <td>0</td>\n",
       "      <td>2</td>\n",
       "      <td>0</td>\n",
       "      <td>7</td>\n",
       "    </tr>\n",
       "    <tr>\n",
       "      <th>3</th>\n",
       "      <td>18</td>\n",
       "      <td>5</td>\n",
       "      <td>4</td>\n",
       "      <td>4</td>\n",
       "      <td>3</td>\n",
       "      <td>6</td>\n",
       "      <td>2</td>\n",
       "      <td>1</td>\n",
       "      <td>2</td>\n",
       "      <td>4</td>\n",
       "      <td>...</td>\n",
       "      <td>1</td>\n",
       "      <td>1</td>\n",
       "      <td>1</td>\n",
       "      <td>1</td>\n",
       "      <td>0</td>\n",
       "      <td>0</td>\n",
       "      <td>0</td>\n",
       "      <td>0</td>\n",
       "      <td>0</td>\n",
       "      <td>9</td>\n",
       "    </tr>\n",
       "    <tr>\n",
       "      <th>4</th>\n",
       "      <td>18</td>\n",
       "      <td>5</td>\n",
       "      <td>4</td>\n",
       "      <td>3</td>\n",
       "      <td>8</td>\n",
       "      <td>7</td>\n",
       "      <td>2</td>\n",
       "      <td>3</td>\n",
       "      <td>3</td>\n",
       "      <td>6</td>\n",
       "      <td>...</td>\n",
       "      <td>1</td>\n",
       "      <td>1</td>\n",
       "      <td>0</td>\n",
       "      <td>0</td>\n",
       "      <td>1</td>\n",
       "      <td>1</td>\n",
       "      <td>0</td>\n",
       "      <td>2</td>\n",
       "      <td>1</td>\n",
       "      <td>8</td>\n",
       "    </tr>\n",
       "    <tr>\n",
       "      <th>...</th>\n",
       "      <td>...</td>\n",
       "      <td>...</td>\n",
       "      <td>...</td>\n",
       "      <td>...</td>\n",
       "      <td>...</td>\n",
       "      <td>...</td>\n",
       "      <td>...</td>\n",
       "      <td>...</td>\n",
       "      <td>...</td>\n",
       "      <td>...</td>\n",
       "      <td>...</td>\n",
       "      <td>...</td>\n",
       "      <td>...</td>\n",
       "      <td>...</td>\n",
       "      <td>...</td>\n",
       "      <td>...</td>\n",
       "      <td>...</td>\n",
       "      <td>...</td>\n",
       "      <td>...</td>\n",
       "      <td>...</td>\n",
       "      <td>...</td>\n",
       "    </tr>\n",
       "    <tr>\n",
       "      <th>1028</th>\n",
       "      <td>19</td>\n",
       "      <td>3</td>\n",
       "      <td>6</td>\n",
       "      <td>5</td>\n",
       "      <td>4</td>\n",
       "      <td>8</td>\n",
       "      <td>4</td>\n",
       "      <td>4</td>\n",
       "      <td>4</td>\n",
       "      <td>8</td>\n",
       "      <td>...</td>\n",
       "      <td>0</td>\n",
       "      <td>1</td>\n",
       "      <td>1</td>\n",
       "      <td>1</td>\n",
       "      <td>1</td>\n",
       "      <td>1</td>\n",
       "      <td>0</td>\n",
       "      <td>0</td>\n",
       "      <td>1</td>\n",
       "      <td>9</td>\n",
       "    </tr>\n",
       "    <tr>\n",
       "      <th>1029</th>\n",
       "      <td>20</td>\n",
       "      <td>6</td>\n",
       "      <td>3</td>\n",
       "      <td>1</td>\n",
       "      <td>3</td>\n",
       "      <td>7</td>\n",
       "      <td>2</td>\n",
       "      <td>5</td>\n",
       "      <td>5</td>\n",
       "      <td>10</td>\n",
       "      <td>...</td>\n",
       "      <td>2</td>\n",
       "      <td>1</td>\n",
       "      <td>0</td>\n",
       "      <td>0</td>\n",
       "      <td>1</td>\n",
       "      <td>1</td>\n",
       "      <td>0</td>\n",
       "      <td>0</td>\n",
       "      <td>1</td>\n",
       "      <td>7</td>\n",
       "    </tr>\n",
       "    <tr>\n",
       "      <th>1030</th>\n",
       "      <td>20</td>\n",
       "      <td>3</td>\n",
       "      <td>3</td>\n",
       "      <td>2</td>\n",
       "      <td>3</td>\n",
       "      <td>6</td>\n",
       "      <td>3</td>\n",
       "      <td>2</td>\n",
       "      <td>2</td>\n",
       "      <td>6</td>\n",
       "      <td>...</td>\n",
       "      <td>0</td>\n",
       "      <td>1</td>\n",
       "      <td>0</td>\n",
       "      <td>0</td>\n",
       "      <td>0</td>\n",
       "      <td>1</td>\n",
       "      <td>0</td>\n",
       "      <td>0</td>\n",
       "      <td>1</td>\n",
       "      <td>7</td>\n",
       "    </tr>\n",
       "    <tr>\n",
       "      <th>1031</th>\n",
       "      <td>19</td>\n",
       "      <td>6</td>\n",
       "      <td>2</td>\n",
       "      <td>3</td>\n",
       "      <td>4</td>\n",
       "      <td>6</td>\n",
       "      <td>2</td>\n",
       "      <td>3</td>\n",
       "      <td>3</td>\n",
       "      <td>6</td>\n",
       "      <td>...</td>\n",
       "      <td>0</td>\n",
       "      <td>1</td>\n",
       "      <td>1</td>\n",
       "      <td>0</td>\n",
       "      <td>1</td>\n",
       "      <td>0</td>\n",
       "      <td>0</td>\n",
       "      <td>2</td>\n",
       "      <td>2</td>\n",
       "      <td>6</td>\n",
       "    </tr>\n",
       "    <tr>\n",
       "      <th>1032</th>\n",
       "      <td>20</td>\n",
       "      <td>6</td>\n",
       "      <td>4</td>\n",
       "      <td>3</td>\n",
       "      <td>5</td>\n",
       "      <td>7</td>\n",
       "      <td>1</td>\n",
       "      <td>5</td>\n",
       "      <td>4</td>\n",
       "      <td>10</td>\n",
       "      <td>...</td>\n",
       "      <td>1</td>\n",
       "      <td>1</td>\n",
       "      <td>0</td>\n",
       "      <td>0</td>\n",
       "      <td>1</td>\n",
       "      <td>1</td>\n",
       "      <td>0</td>\n",
       "      <td>1</td>\n",
       "      <td>1</td>\n",
       "      <td>8</td>\n",
       "    </tr>\n",
       "  </tbody>\n",
       "</table>\n",
       "<p>1033 rows × 24 columns</p>\n",
       "</div>"
      ],
      "text/plain": [
       "      Age(Years)  Number of Subjects  Family size  \\\n",
       "0             18                  11            4   \n",
       "1             19                   7            4   \n",
       "2             18                   5            5   \n",
       "3             18                   5            4   \n",
       "4             18                   5            4   \n",
       "...          ...                 ...          ...   \n",
       "1028          19                   3            6   \n",
       "1029          20                   6            3   \n",
       "1030          20                   3            3   \n",
       "1031          19                   6            2   \n",
       "1032          20                   6            4   \n",
       "\n",
       "      Internet facility in your locality  Study time (Hours)  \\\n",
       "0                                      5                   3   \n",
       "1                                      1                   7   \n",
       "2                                      2                   6   \n",
       "3                                      4                   3   \n",
       "4                                      3                   8   \n",
       "...                                  ...                 ...   \n",
       "1028                                   5                   4   \n",
       "1029                                   1                   3   \n",
       "1030                                   2                   3   \n",
       "1031                                   3                   4   \n",
       "1032                                   3                   5   \n",
       "\n",
       "      Sleep time (Hours)  Time spent on social media (Hours)  \\\n",
       "0                      6                                   1   \n",
       "1                      5                                   1   \n",
       "2                      7                                   1   \n",
       "3                      6                                   2   \n",
       "4                      7                                   2   \n",
       "...                  ...                                 ...   \n",
       "1028                   8                                   4   \n",
       "1029                   7                                   2   \n",
       "1030                   6                                   3   \n",
       "1031                   6                                   2   \n",
       "1032                   7                                   1   \n",
       "\n",
       "      Your interaction in online mode  \\\n",
       "0                                   1   \n",
       "1                                   1   \n",
       "2                                   1   \n",
       "3                                   1   \n",
       "4                                   3   \n",
       "...                               ...   \n",
       "1028                                4   \n",
       "1029                                5   \n",
       "1030                                2   \n",
       "1031                                3   \n",
       "1032                                5   \n",
       "\n",
       "      Clearing doubts with faculties in online mode  Performance in online  \\\n",
       "0                                                 1                      6   \n",
       "1                                                 1                      3   \n",
       "2                                                 1                      6   \n",
       "3                                                 2                      4   \n",
       "4                                                 3                      6   \n",
       "...                                             ...                    ...   \n",
       "1028                                              4                      8   \n",
       "1029                                              5                     10   \n",
       "1030                                              2                      6   \n",
       "1031                                              3                      6   \n",
       "1032                                              4                     10   \n",
       "\n",
       "      ...  int_DeviceTypeUsedToAttendClassesLevelOEducation  \\\n",
       "0     ...                                                 1   \n",
       "1     ...                                                 1   \n",
       "2     ...                                                 1   \n",
       "3     ...                                                 1   \n",
       "4     ...                                                 1   \n",
       "...   ...                                               ...   \n",
       "1028  ...                                                 0   \n",
       "1029  ...                                                 2   \n",
       "1030  ...                                                 0   \n",
       "1031  ...                                                 0   \n",
       "1032  ...                                                 1   \n",
       "\n",
       "     int_EconomicStatus int_Sports int_ElderlyMonitor int_Gaming  \\\n",
       "0                     1          0                  1          0   \n",
       "1                     1          1                  1          1   \n",
       "2                     1          0                  1          0   \n",
       "3                     1          1                  1          0   \n",
       "4                     1          0                  0          1   \n",
       "...                 ...        ...                ...        ...   \n",
       "1028                  1          1                  1          1   \n",
       "1029                  1          0                  0          1   \n",
       "1030                  1          0                  0          0   \n",
       "1031                  1          1                  0          1   \n",
       "1032                  1          0                  0          1   \n",
       "\n",
       "     int_StudyRoom int_GroupStudies int_InterestedIn  \\\n",
       "0                0                0                1   \n",
       "1                1                0                0   \n",
       "2                1                0                2   \n",
       "3                0                0                0   \n",
       "4                1                0                2   \n",
       "...            ...              ...              ...   \n",
       "1028             1                0                0   \n",
       "1029             1                0                0   \n",
       "1030             1                0                0   \n",
       "1031             0                0                2   \n",
       "1032             1                0                1   \n",
       "\n",
       "     int_SatisfactionInOnlineEducation int_ClassroomMarks  \n",
       "0                                    1                  9  \n",
       "1                                    0                  9  \n",
       "2                                    0                  7  \n",
       "3                                    0                  9  \n",
       "4                                    1                  8  \n",
       "...                                ...                ...  \n",
       "1028                                 1                  9  \n",
       "1029                                 1                  7  \n",
       "1030                                 1                  7  \n",
       "1031                                 2                  6  \n",
       "1032                                 1                  8  \n",
       "\n",
       "[1033 rows x 24 columns]"
      ]
     },
     "execution_count": 30,
     "metadata": {},
     "output_type": "execute_result"
    }
   ],
   "source": [
    "#Data after converting all variables to numerical\n",
    "\n",
    "online_education_int = online_education.drop(columns=['Gender', 'Home Location', 'Level of Education', 'Device type used to attend classes', 'Economic status', 'Are you involved in any sports?', 'Do elderly people monitor you?', 'Interested in Gaming?', 'Have separate room for studying?', 'Engaged in group studies?', 'Average marks scored before pandemic in traditional classroom', 'Interested in?', 'Your level of satisfaction in Online Education'])\n",
    "online_education_int"
   ]
  },
  {
   "cell_type": "code",
   "execution_count": null,
   "metadata": {},
   "outputs": [],
   "source": []
  },
  {
   "cell_type": "code",
   "execution_count": 31,
   "metadata": {},
   "outputs": [
    {
     "name": "stdout",
     "output_type": "stream",
     "text": [
      "<class 'pandas.core.frame.DataFrame'>\n",
      "RangeIndex: 1033 entries, 0 to 1032\n",
      "Data columns (total 37 columns):\n",
      " #   Column                                                         Non-Null Count  Dtype \n",
      "---  ------                                                         --------------  ----- \n",
      " 0   Gender                                                         1033 non-null   object\n",
      " 1   Home Location                                                  1033 non-null   object\n",
      " 2   Level of Education                                             1033 non-null   object\n",
      " 3   Age(Years)                                                     1033 non-null   int64 \n",
      " 4   Number of Subjects                                             1033 non-null   int64 \n",
      " 5   Device type used to attend classes                             1033 non-null   object\n",
      " 6   Economic status                                                1033 non-null   object\n",
      " 7   Family size                                                    1033 non-null   int64 \n",
      " 8   Internet facility in your locality                             1033 non-null   int64 \n",
      " 9   Are you involved in any sports?                                1033 non-null   object\n",
      " 10  Do elderly people monitor you?                                 1033 non-null   object\n",
      " 11  Study time (Hours)                                             1033 non-null   int64 \n",
      " 12  Sleep time (Hours)                                             1033 non-null   int64 \n",
      " 13  Time spent on social media (Hours)                             1033 non-null   int64 \n",
      " 14  Interested in Gaming?                                          1033 non-null   object\n",
      " 15  Have separate room for studying?                               1033 non-null   object\n",
      " 16  Engaged in group studies?                                      1033 non-null   object\n",
      " 17  Average marks scored before pandemic in traditional classroom  1033 non-null   object\n",
      " 18  Your interaction in online mode                                1033 non-null   int64 \n",
      " 19  Clearing doubts with faculties in online mode                  1033 non-null   int64 \n",
      " 20  Interested in?                                                 1033 non-null   object\n",
      " 21  Performance in online                                          1033 non-null   int64 \n",
      " 22  Your level of satisfaction in Online Education                 1033 non-null   object\n",
      " 23  sno                                                            1033 non-null   int64 \n",
      " 24  int_Gender                                                     1033 non-null   object\n",
      " 25  int_HomeLocation                                               1033 non-null   object\n",
      " 26  int_LevelofEducation                                           1033 non-null   object\n",
      " 27  int_DeviceTypeUsedToAttendClassesLevelOEducation               1033 non-null   object\n",
      " 28  int_EconomicStatus                                             1033 non-null   object\n",
      " 29  int_Sports                                                     1033 non-null   object\n",
      " 30  int_ElderlyMonitor                                             1033 non-null   object\n",
      " 31  int_Gaming                                                     1033 non-null   object\n",
      " 32  int_StudyRoom                                                  1033 non-null   object\n",
      " 33  int_GroupStudies                                               1033 non-null   object\n",
      " 34  int_InterestedIn                                               1033 non-null   object\n",
      " 35  int_SatisfactionInOnlineEducation                              1033 non-null   object\n",
      " 36  int_ClassroomMarks                                             1033 non-null   object\n",
      "dtypes: int64(11), object(26)\n",
      "memory usage: 298.7+ KB\n"
     ]
    }
   ],
   "source": [
    "#Datatype of raw dataset\n",
    "\n",
    "online_education.info()\n"
   ]
  },
  {
   "cell_type": "code",
   "execution_count": 32,
   "metadata": {},
   "outputs": [
    {
     "name": "stdout",
     "output_type": "stream",
     "text": [
      "<class 'pandas.core.frame.DataFrame'>\n",
      "RangeIndex: 1033 entries, 0 to 1032\n",
      "Data columns (total 24 columns):\n",
      " #   Column                                            Non-Null Count  Dtype\n",
      "---  ------                                            --------------  -----\n",
      " 0   Age(Years)                                        1033 non-null   int64\n",
      " 1   Number of Subjects                                1033 non-null   int64\n",
      " 2   Family size                                       1033 non-null   int64\n",
      " 3   Internet facility in your locality                1033 non-null   int64\n",
      " 4   Study time (Hours)                                1033 non-null   int64\n",
      " 5   Sleep time (Hours)                                1033 non-null   int64\n",
      " 6   Time spent on social media (Hours)                1033 non-null   int64\n",
      " 7   Your interaction in online mode                   1033 non-null   int64\n",
      " 8   Clearing doubts with faculties in online mode     1033 non-null   int64\n",
      " 9   Performance in online                             1033 non-null   int64\n",
      " 10  sno                                               1033 non-null   int64\n",
      " 11  int_Gender                                        1033 non-null   int64\n",
      " 12  int_HomeLocation                                  1033 non-null   int64\n",
      " 13  int_LevelofEducation                              1033 non-null   int64\n",
      " 14  int_DeviceTypeUsedToAttendClassesLevelOEducation  1033 non-null   int64\n",
      " 15  int_EconomicStatus                                1033 non-null   int64\n",
      " 16  int_Sports                                        1033 non-null   int64\n",
      " 17  int_ElderlyMonitor                                1033 non-null   int64\n",
      " 18  int_Gaming                                        1033 non-null   int64\n",
      " 19  int_StudyRoom                                     1033 non-null   int64\n",
      " 20  int_GroupStudies                                  1033 non-null   int64\n",
      " 21  int_InterestedIn                                  1033 non-null   int64\n",
      " 22  int_SatisfactionInOnlineEducation                 1033 non-null   int64\n",
      " 23  int_ClassroomMarks                                1033 non-null   int64\n",
      "dtypes: int64(24)\n",
      "memory usage: 193.8 KB\n"
     ]
    }
   ],
   "source": [
    "#Converting all datatypes to int64\n",
    "\n",
    "online_education_int['int_Gender']=online_education_int['int_Gender'].astype('int64')\n",
    "online_education_int['int_HomeLocation']=online_education_int['int_HomeLocation'].astype('int64')\n",
    "online_education_int['int_LevelofEducation']=online_education_int['int_LevelofEducation'].astype('int64')\n",
    "online_education_int['int_DeviceTypeUsedToAttendClassesLevelOEducation']=online_education_int['int_DeviceTypeUsedToAttendClassesLevelOEducation'].astype('int64')\n",
    "online_education_int['int_EconomicStatus']=online_education_int['int_EconomicStatus'].astype('int64')\n",
    "online_education_int['int_Sports']=online_education_int['int_Sports'].astype('int64')\n",
    "online_education_int['int_ElderlyMonitor']=online_education_int['int_ElderlyMonitor'].astype('int64')\n",
    "online_education_int['int_Gaming']=online_education_int['int_Gaming'].astype('int64')\n",
    "online_education_int['int_StudyRoom']=online_education_int['int_StudyRoom'].astype('int64')\n",
    "online_education_int['int_GroupStudies']=online_education_int['int_GroupStudies'].astype('int64')\n",
    "online_education_int['int_InterestedIn']=online_education_int['int_InterestedIn'].astype('int64')\n",
    "online_education_int['int_SatisfactionInOnlineEducation']=online_education_int['int_SatisfactionInOnlineEducation'].astype('int64')\n",
    "online_education_int['int_ClassroomMarks']=online_education_int['int_ClassroomMarks'].astype('int64')\n",
    "online_education_int.info()"
   ]
  },
  {
   "cell_type": "code",
   "execution_count": 33,
   "metadata": {},
   "outputs": [
    {
     "data": {
      "text/plain": [
       "<AxesSubplot:>"
      ]
     },
     "execution_count": 33,
     "metadata": {},
     "output_type": "execute_result"
    },
    {
     "data": {
      "image/png": "[encoded data removed]",
      "text/plain": [
       "<Figure size 432x288 with 1 Axes>"
      ]
     },
     "metadata": {
      "needs_background": "light"
     },
     "output_type": "display_data"
    }
   ],
   "source": [
    "#Box plot for outliers\n",
    "\n",
    "online_education_int[['Number of Subjects', 'Family size', 'Internet facility in your locality', 'Study time (Hours)', 'Sleep time (Hours)', 'Time spent on social media (Hours)', 'Your interaction in online mode', 'Clearing doubts with faculties in online mode', 'Performance in online','int_ClassroomMarks' ]].plot.box(grid='True',vert=False)"
   ]
  },
  {
   "cell_type": "code",
   "execution_count": 34,
   "metadata": {},
   "outputs": [
    {
     "data": {
      "text/plain": [
       "<AxesSubplot:>"
      ]
     },
     "execution_count": 34,
     "metadata": {},
     "output_type": "execute_result"
    },
    {
     "data": {
      "image/png": "[encoded data removed]",
      "text/plain": [
       "<Figure size 432x288 with 1 Axes>"
      ]
     },
     "metadata": {
      "needs_background": "light"
     },
     "output_type": "display_data"
    }
   ],
   "source": [
    "online_education_int[['Age(Years)']].plot.box(grid='True',vert=False)"
   ]
  },
  {
   "cell_type": "code",
   "execution_count": 35,
   "metadata": {},
   "outputs": [],
   "source": [
    "#Removal of outliers using boxplot \n",
    "online_education_int = online_education_int[online_education_int['Family size']<8]\n",
    "online_education_int = online_education_int[online_education_int['Family size']>2]\n",
    "online_education_int = online_education_int[online_education_int['Time spent on social media (Hours)']<9]\n",
    "online_education_int = online_education_int[online_education_int['Sleep time (Hours)']>3]\n",
    "online_education_int = online_education_int[online_education_int['int_ClassroomMarks']>2] #  >30 marks\n",
    "online_education_int = online_education_int[online_education_int['Age(Years)']>13]"
   ]
  },
  {
   "cell_type": "code",
   "execution_count": 36,
   "metadata": {},
   "outputs": [
    {
     "data": {
      "text/plain": [
       "<AxesSubplot:>"
      ]
     },
     "execution_count": 36,
     "metadata": {},
     "output_type": "execute_result"
    },
    {
     "data": {
      "image/png": "[encoded data removed]",
      "text/plain": [
       "<Figure size 432x288 with 1 Axes>"
      ]
     },
     "metadata": {
      "needs_background": "light"
     },
     "output_type": "display_data"
    }
   ],
   "source": [
    "#Box plot after removing outliers \n",
    "\n",
    "online_education_int[['Number of Subjects', 'Family size', 'Internet facility in your locality', 'Study time (Hours)', 'Sleep time (Hours)', 'Time spent on social media (Hours)', 'Your interaction in online mode', 'Clearing doubts with faculties in online mode', 'Performance in online','int_ClassroomMarks' ]].plot.box(grid='True',vert=False)"
   ]
  },
  {
   "cell_type": "code",
   "execution_count": 37,
   "metadata": {},
   "outputs": [
    {
     "data": {
      "text/plain": [
       "<AxesSubplot:>"
      ]
     },
     "execution_count": 37,
     "metadata": {},
     "output_type": "execute_result"
    },
    {
     "data": {
      "image/png": "[encoded data removed]",
      "text/plain": [
       "<Figure size 432x288 with 1 Axes>"
      ]
     },
     "metadata": {
      "needs_background": "light"
     },
     "output_type": "display_data"
    }
   ],
   "source": [
    "online_education_int[['Age(Years)']].plot.box(grid='True',vert=False)\n"
   ]
  },
  {
   "cell_type": "code",
   "execution_count": 38,
   "metadata": {},
   "outputs": [
    {
     "data": {
      "text/plain": [
       "<AxesSubplot:>"
      ]
     },
     "execution_count": 38,
     "metadata": {},
     "output_type": "execute_result"
    },
    {
     "data": {
      "image/png": "[encoded data removed]",
      "text/plain": [
       "<Figure size 432x288 with 1 Axes>"
      ]
     },
     "metadata": {
      "needs_background": "light"
     },
     "output_type": "display_data"
    }
   ],
   "source": [
    "#Scaling the data\n",
    "\n",
    "from sklearn import preprocessing\n",
    "scaler = preprocessing.MinMaxScaler(feature_range=(1, 3))\n",
    "feature_names = online_education_int.columns\n",
    "tfm = scaler.fit_transform(online_education_int)\n",
    "scaled_online_education = pd.DataFrame(tfm, columns=feature_names)\n",
    "scaled_online_education.plot.box(grid='True', vert=False)"
   ]
  },
  {
   "cell_type": "code",
   "execution_count": 39,
   "metadata": {},
   "outputs": [],
   "source": [
    "feature_input = ['Age(Years)', 'Number of Subjects', 'Family size', 'Internet facility in your locality', 'Study time (Hours)', 'Sleep time (Hours)', 'Time spent on social media (Hours)', 'Your interaction in online mode', 'Clearing doubts with faculties in online mode', 'int_Gender', 'int_HomeLocation', 'int_LevelofEducation', 'int_DeviceTypeUsedToAttendClassesLevelOEducation', 'int_EconomicStatus', 'int_Sports', 'int_ElderlyMonitor', 'int_Gaming', 'int_StudyRoom', 'int_GroupStudies', 'int_InterestedIn', 'int_SatisfactionInOnlineEducation', 'int_ClassroomMarks']\n",
    "feature_output = ['Performance in online']\n",
    "oedf_int_ip = scaled_online_education[feature_input]\n",
    "oedf_int_op = scaled_online_education[feature_output]"
   ]
  },
  {
   "cell_type": "code",
   "execution_count": 40,
   "metadata": {},
   "outputs": [],
   "source": [
    "from sklearn.model_selection import train_test_split\n",
    "trn_x, tst_x, trn_y, tst_y = train_test_split(oedf_int_ip,oedf_int_op,test_size = 0.20,random_state = 42) "
   ]
  },
  {
   "cell_type": "code",
   "execution_count": 41,
   "metadata": {},
   "outputs": [
    {
     "data": {
      "image/png": "[encoded data removed]",
      "text/plain": [
       "<Figure size 432x288 with 1 Axes>"
      ]
     },
     "metadata": {},
     "output_type": "display_data"
    },
    {
     "data": {
      "text/plain": [
       "None"
      ]
     },
     "metadata": {},
     "output_type": "display_data"
    },
    {
     "data": {
      "text/html": [
       "<div>\n",
       "<style scoped>\n",
       "    .dataframe tbody tr th:only-of-type {\n",
       "        vertical-align: middle;\n",
       "    }\n",
       "\n",
       "    .dataframe tbody tr th {\n",
       "        vertical-align: top;\n",
       "    }\n",
       "\n",
       "    .dataframe thead th {\n",
       "        text-align: right;\n",
       "    }\n",
       "</style>\n",
       "<table border=\"1\" class=\"dataframe\">\n",
       "  <thead>\n",
       "    <tr style=\"text-align: right;\">\n",
       "      <th></th>\n",
       "      <th>Cumulative Variance Ratio</th>\n",
       "      <th>Explained Variance Ratio</th>\n",
       "    </tr>\n",
       "  </thead>\n",
       "  <tbody>\n",
       "    <tr>\n",
       "      <th>0</th>\n",
       "      <td>0.151351</td>\n",
       "      <td>0.151351</td>\n",
       "    </tr>\n",
       "    <tr>\n",
       "      <th>1</th>\n",
       "      <td>0.282195</td>\n",
       "      <td>0.130845</td>\n",
       "    </tr>\n",
       "    <tr>\n",
       "      <th>2</th>\n",
       "      <td>0.399584</td>\n",
       "      <td>0.117389</td>\n",
       "    </tr>\n",
       "    <tr>\n",
       "      <th>3</th>\n",
       "      <td>0.498625</td>\n",
       "      <td>0.099040</td>\n",
       "    </tr>\n",
       "    <tr>\n",
       "      <th>4</th>\n",
       "      <td>0.585487</td>\n",
       "      <td>0.086862</td>\n",
       "    </tr>\n",
       "    <tr>\n",
       "      <th>5</th>\n",
       "      <td>0.662405</td>\n",
       "      <td>0.076918</td>\n",
       "    </tr>\n",
       "    <tr>\n",
       "      <th>6</th>\n",
       "      <td>0.729885</td>\n",
       "      <td>0.067480</td>\n",
       "    </tr>\n",
       "    <tr>\n",
       "      <th>7</th>\n",
       "      <td>0.785594</td>\n",
       "      <td>0.055709</td>\n",
       "    </tr>\n",
       "    <tr>\n",
       "      <th>8</th>\n",
       "      <td>0.813400</td>\n",
       "      <td>0.027806</td>\n",
       "    </tr>\n",
       "    <tr>\n",
       "      <th>9</th>\n",
       "      <td>0.840607</td>\n",
       "      <td>0.027208</td>\n",
       "    </tr>\n",
       "  </tbody>\n",
       "</table>\n",
       "</div>"
      ],
      "text/plain": [
       "   Cumulative Variance Ratio  Explained Variance Ratio\n",
       "0                   0.151351                  0.151351\n",
       "1                   0.282195                  0.130845\n",
       "2                   0.399584                  0.117389\n",
       "3                   0.498625                  0.099040\n",
       "4                   0.585487                  0.086862\n",
       "5                   0.662405                  0.076918\n",
       "6                   0.729885                  0.067480\n",
       "7                   0.785594                  0.055709\n",
       "8                   0.813400                  0.027806\n",
       "9                   0.840607                  0.027208"
      ]
     },
     "metadata": {},
     "output_type": "display_data"
    }
   ],
   "source": [
    "import matplotlib.pyplot as plt\n",
    "import seaborn as sns\n",
    "from sklearn.decomposition import PCA\n",
    "pca_test = PCA(n_components=22)\n",
    "pca_test.fit(trn_x)\n",
    "sns.set(style='whitegrid')\n",
    "plt.plot(np.cumsum(pca_test.explained_variance_ratio_))\n",
    "plt.xlabel('number of components')\n",
    "plt.ylabel('cumulative explained variance')\n",
    "plt.axvline(linewidth=4, color='r', linestyle = '--', x=10, ymin=0, ymax=1)\n",
    "display(plt.show())\n",
    "evr = pca_test.explained_variance_ratio_\n",
    "cvr = np.cumsum(pca_test.explained_variance_ratio_)\n",
    "pca_df = pd.DataFrame()\n",
    "pca_df['Cumulative Variance Ratio'] = cvr\n",
    "pca_df['Explained Variance Ratio'] = evr\n",
    "display(pca_df.head(10))"
   ]
  },
  {
   "cell_type": "code",
   "execution_count": 42,
   "metadata": {},
   "outputs": [],
   "source": [
    "pca = PCA(n_components=10)\n",
    "pca.fit(trn_x)\n",
    "X_train_scaled_pca = pca.transform(trn_x)\n",
    "X_test_scaled_pca = pca.transform(tst_x)"
   ]
  },
  {
   "cell_type": "code",
   "execution_count": 43,
   "metadata": {},
   "outputs": [
    {
     "data": {
      "text/html": [
       "<div>\n",
       "<style scoped>\n",
       "    .dataframe tbody tr th:only-of-type {\n",
       "        vertical-align: middle;\n",
       "    }\n",
       "\n",
       "    .dataframe tbody tr th {\n",
       "        vertical-align: top;\n",
       "    }\n",
       "\n",
       "    .dataframe thead th {\n",
       "        text-align: right;\n",
       "    }\n",
       "</style>\n",
       "<table border=\"1\" class=\"dataframe\">\n",
       "  <thead>\n",
       "    <tr style=\"text-align: right;\">\n",
       "      <th></th>\n",
       "      <th>PCA Component 0</th>\n",
       "      <th>PCA Component 1</th>\n",
       "      <th>PCA Component 2</th>\n",
       "      <th>PCA Component 3</th>\n",
       "      <th>PCA Component 4</th>\n",
       "      <th>PCA Component 5</th>\n",
       "      <th>PCA Component 6</th>\n",
       "      <th>PCA Component 7</th>\n",
       "      <th>PCA Component 8</th>\n",
       "      <th>PCA Component 9</th>\n",
       "    </tr>\n",
       "  </thead>\n",
       "  <tbody>\n",
       "    <tr>\n",
       "      <th>Age(Years)</th>\n",
       "      <td>0.008583</td>\n",
       "      <td>-7.576051e-03</td>\n",
       "      <td>1.089678e-02</td>\n",
       "      <td>3.168357e-02</td>\n",
       "      <td>-0.021277</td>\n",
       "      <td>0.017031</td>\n",
       "      <td>-0.039503</td>\n",
       "      <td>0.065640</td>\n",
       "      <td>-0.039913</td>\n",
       "      <td>-0.038295</td>\n",
       "    </tr>\n",
       "    <tr>\n",
       "      <th>Number of Subjects</th>\n",
       "      <td>-0.022630</td>\n",
       "      <td>1.655107e-02</td>\n",
       "      <td>-4.771761e-03</td>\n",
       "      <td>9.913540e-03</td>\n",
       "      <td>0.020036</td>\n",
       "      <td>-0.039109</td>\n",
       "      <td>-0.019415</td>\n",
       "      <td>-0.003463</td>\n",
       "      <td>-0.005296</td>\n",
       "      <td>-0.063557</td>\n",
       "    </tr>\n",
       "    <tr>\n",
       "      <th>Family size</th>\n",
       "      <td>0.028494</td>\n",
       "      <td>3.661298e-02</td>\n",
       "      <td>6.246559e-02</td>\n",
       "      <td>-2.527070e-02</td>\n",
       "      <td>0.061398</td>\n",
       "      <td>0.003913</td>\n",
       "      <td>0.046043</td>\n",
       "      <td>0.039865</td>\n",
       "      <td>-0.028961</td>\n",
       "      <td>0.026338</td>\n",
       "    </tr>\n",
       "    <tr>\n",
       "      <th>Internet facility in your locality</th>\n",
       "      <td>-0.000724</td>\n",
       "      <td>-2.274358e-01</td>\n",
       "      <td>-1.290754e-02</td>\n",
       "      <td>5.452750e-02</td>\n",
       "      <td>-0.096851</td>\n",
       "      <td>0.057437</td>\n",
       "      <td>-0.137490</td>\n",
       "      <td>0.019540</td>\n",
       "      <td>0.622410</td>\n",
       "      <td>-0.138025</td>\n",
       "    </tr>\n",
       "    <tr>\n",
       "      <th>Study time (Hours)</th>\n",
       "      <td>0.055470</td>\n",
       "      <td>-3.682295e-02</td>\n",
       "      <td>7.858492e-02</td>\n",
       "      <td>4.110037e-02</td>\n",
       "      <td>0.005534</td>\n",
       "      <td>-0.058775</td>\n",
       "      <td>-0.047748</td>\n",
       "      <td>0.061044</td>\n",
       "      <td>-0.232505</td>\n",
       "      <td>-0.507318</td>\n",
       "    </tr>\n",
       "    <tr>\n",
       "      <th>Sleep time (Hours)</th>\n",
       "      <td>-0.011010</td>\n",
       "      <td>-2.653528e-03</td>\n",
       "      <td>7.278154e-03</td>\n",
       "      <td>7.473823e-02</td>\n",
       "      <td>-0.004262</td>\n",
       "      <td>0.032946</td>\n",
       "      <td>0.014994</td>\n",
       "      <td>-0.005715</td>\n",
       "      <td>0.082104</td>\n",
       "      <td>0.171960</td>\n",
       "    </tr>\n",
       "    <tr>\n",
       "      <th>Time spent on social media (Hours)</th>\n",
       "      <td>-0.004910</td>\n",
       "      <td>-2.484390e-02</td>\n",
       "      <td>-3.025051e-02</td>\n",
       "      <td>1.088336e-02</td>\n",
       "      <td>-0.061320</td>\n",
       "      <td>0.009043</td>\n",
       "      <td>0.069810</td>\n",
       "      <td>-0.018145</td>\n",
       "      <td>0.283928</td>\n",
       "      <td>0.226419</td>\n",
       "    </tr>\n",
       "    <tr>\n",
       "      <th>Your interaction in online mode</th>\n",
       "      <td>0.084238</td>\n",
       "      <td>-1.018073e-01</td>\n",
       "      <td>2.628174e-01</td>\n",
       "      <td>2.034686e-01</td>\n",
       "      <td>-0.127627</td>\n",
       "      <td>0.151805</td>\n",
       "      <td>-0.288897</td>\n",
       "      <td>0.064486</td>\n",
       "      <td>-0.065465</td>\n",
       "      <td>-0.260973</td>\n",
       "    </tr>\n",
       "    <tr>\n",
       "      <th>Clearing doubts with faculties in online mode</th>\n",
       "      <td>0.110039</td>\n",
       "      <td>-9.587824e-02</td>\n",
       "      <td>2.827663e-01</td>\n",
       "      <td>2.050564e-01</td>\n",
       "      <td>-0.104082</td>\n",
       "      <td>0.116314</td>\n",
       "      <td>-0.344662</td>\n",
       "      <td>0.053623</td>\n",
       "      <td>-0.113700</td>\n",
       "      <td>-0.238537</td>\n",
       "    </tr>\n",
       "    <tr>\n",
       "      <th>int_Gender</th>\n",
       "      <td>-0.603998</td>\n",
       "      <td>2.167464e-01</td>\n",
       "      <td>-9.997216e-02</td>\n",
       "      <td>5.506266e-02</td>\n",
       "      <td>0.312922</td>\n",
       "      <td>-0.293819</td>\n",
       "      <td>-0.554373</td>\n",
       "      <td>-0.268304</td>\n",
       "      <td>-0.005074</td>\n",
       "      <td>-0.006668</td>\n",
       "    </tr>\n",
       "    <tr>\n",
       "      <th>int_HomeLocation</th>\n",
       "      <td>-0.035860</td>\n",
       "      <td>-5.563119e-01</td>\n",
       "      <td>-3.629158e-01</td>\n",
       "      <td>-3.616992e-01</td>\n",
       "      <td>-0.440298</td>\n",
       "      <td>0.006863</td>\n",
       "      <td>-0.246502</td>\n",
       "      <td>-0.307491</td>\n",
       "      <td>-0.252043</td>\n",
       "      <td>0.068846</td>\n",
       "    </tr>\n",
       "    <tr>\n",
       "      <th>int_LevelofEducation</th>\n",
       "      <td>0.032616</td>\n",
       "      <td>4.253419e-02</td>\n",
       "      <td>2.413256e-02</td>\n",
       "      <td>3.005955e-02</td>\n",
       "      <td>-0.008944</td>\n",
       "      <td>0.022655</td>\n",
       "      <td>-0.006628</td>\n",
       "      <td>0.017471</td>\n",
       "      <td>-0.248020</td>\n",
       "      <td>-0.205694</td>\n",
       "    </tr>\n",
       "    <tr>\n",
       "      <th>int_DeviceTypeUsedToAttendClassesLevelOEducation</th>\n",
       "      <td>-0.059947</td>\n",
       "      <td>-1.731055e-01</td>\n",
       "      <td>-9.907322e-02</td>\n",
       "      <td>-5.707497e-02</td>\n",
       "      <td>0.033417</td>\n",
       "      <td>-0.100028</td>\n",
       "      <td>-0.001512</td>\n",
       "      <td>0.028090</td>\n",
       "      <td>0.503943</td>\n",
       "      <td>-0.373988</td>\n",
       "    </tr>\n",
       "    <tr>\n",
       "      <th>int_EconomicStatus</th>\n",
       "      <td>-0.014552</td>\n",
       "      <td>-6.828420e-02</td>\n",
       "      <td>-2.238354e-02</td>\n",
       "      <td>-4.094856e-03</td>\n",
       "      <td>-0.000317</td>\n",
       "      <td>0.033371</td>\n",
       "      <td>-0.008115</td>\n",
       "      <td>-0.005025</td>\n",
       "      <td>0.136801</td>\n",
       "      <td>0.000680</td>\n",
       "    </tr>\n",
       "    <tr>\n",
       "      <th>int_Sports</th>\n",
       "      <td>-0.506696</td>\n",
       "      <td>-2.200774e-01</td>\n",
       "      <td>5.323484e-02</td>\n",
       "      <td>-4.164960e-02</td>\n",
       "      <td>0.230135</td>\n",
       "      <td>0.775105</td>\n",
       "      <td>0.126027</td>\n",
       "      <td>0.076113</td>\n",
       "      <td>-0.055780</td>\n",
       "      <td>-0.008831</td>\n",
       "    </tr>\n",
       "    <tr>\n",
       "      <th>int_ElderlyMonitor</th>\n",
       "      <td>-0.058562</td>\n",
       "      <td>-3.068179e-01</td>\n",
       "      <td>6.730897e-01</td>\n",
       "      <td>-5.443493e-01</td>\n",
       "      <td>0.240621</td>\n",
       "      <td>-0.275913</td>\n",
       "      <td>0.040112</td>\n",
       "      <td>0.027081</td>\n",
       "      <td>0.003471</td>\n",
       "      <td>0.087430</td>\n",
       "    </tr>\n",
       "    <tr>\n",
       "      <th>int_Gaming</th>\n",
       "      <td>-0.515424</td>\n",
       "      <td>2.126993e-01</td>\n",
       "      <td>3.014039e-01</td>\n",
       "      <td>6.593955e-02</td>\n",
       "      <td>-0.702223</td>\n",
       "      <td>-0.129464</td>\n",
       "      <td>0.269048</td>\n",
       "      <td>-0.013402</td>\n",
       "      <td>0.036017</td>\n",
       "      <td>-0.061549</td>\n",
       "    </tr>\n",
       "    <tr>\n",
       "      <th>int_StudyRoom</th>\n",
       "      <td>-0.154777</td>\n",
       "      <td>-5.737505e-01</td>\n",
       "      <td>1.115713e-02</td>\n",
       "      <td>6.260632e-01</td>\n",
       "      <td>0.163165</td>\n",
       "      <td>-0.331864</td>\n",
       "      <td>0.290265</td>\n",
       "      <td>-0.038971</td>\n",
       "      <td>-0.135098</td>\n",
       "      <td>0.101144</td>\n",
       "    </tr>\n",
       "    <tr>\n",
       "      <th>int_GroupStudies</th>\n",
       "      <td>0.000000</td>\n",
       "      <td>6.462349e-27</td>\n",
       "      <td>1.033976e-25</td>\n",
       "      <td>-8.271806e-25</td>\n",
       "      <td>-0.000000</td>\n",
       "      <td>-0.000000</td>\n",
       "      <td>-0.000000</td>\n",
       "      <td>-0.000000</td>\n",
       "      <td>-0.000000</td>\n",
       "      <td>0.000000</td>\n",
       "    </tr>\n",
       "    <tr>\n",
       "      <th>int_InterestedIn</th>\n",
       "      <td>-0.173360</td>\n",
       "      <td>-9.083355e-02</td>\n",
       "      <td>-1.950488e-01</td>\n",
       "      <td>-7.340187e-02</td>\n",
       "      <td>-0.083860</td>\n",
       "      <td>-0.160478</td>\n",
       "      <td>-0.215302</td>\n",
       "      <td>0.891996</td>\n",
       "      <td>-0.080750</td>\n",
       "      <td>0.166160</td>\n",
       "    </tr>\n",
       "    <tr>\n",
       "      <th>int_SatisfactionInOnlineEducation</th>\n",
       "      <td>0.159236</td>\n",
       "      <td>-3.868251e-02</td>\n",
       "      <td>3.096125e-01</td>\n",
       "      <td>2.541991e-01</td>\n",
       "      <td>-0.154377</td>\n",
       "      <td>0.150785</td>\n",
       "      <td>-0.422678</td>\n",
       "      <td>-0.041089</td>\n",
       "      <td>0.118095</td>\n",
       "      <td>0.457093</td>\n",
       "    </tr>\n",
       "    <tr>\n",
       "      <th>int_ClassroomMarks</th>\n",
       "      <td>-0.002934</td>\n",
       "      <td>-7.358849e-02</td>\n",
       "      <td>-7.911318e-02</td>\n",
       "      <td>-4.527487e-02</td>\n",
       "      <td>0.024896</td>\n",
       "      <td>-0.057978</td>\n",
       "      <td>-0.007696</td>\n",
       "      <td>0.096742</td>\n",
       "      <td>0.103156</td>\n",
       "      <td>-0.257468</td>\n",
       "    </tr>\n",
       "  </tbody>\n",
       "</table>\n",
       "</div>"
      ],
      "text/plain": [
       "                                                  PCA Component 0  \\\n",
       "Age(Years)                                               0.008583   \n",
       "Number of Subjects                                      -0.022630   \n",
       "Family size                                              0.028494   \n",
       "Internet facility in your locality                      -0.000724   \n",
       "Study time (Hours)                                       0.055470   \n",
       "Sleep time (Hours)                                      -0.011010   \n",
       "Time spent on social media (Hours)                      -0.004910   \n",
       "Your interaction in online mode                          0.084238   \n",
       "Clearing doubts with faculties in online mode            0.110039   \n",
       "int_Gender                                              -0.603998   \n",
       "int_HomeLocation                                        -0.035860   \n",
       "int_LevelofEducation                                     0.032616   \n",
       "int_DeviceTypeUsedToAttendClassesLevelOEducation        -0.059947   \n",
       "int_EconomicStatus                                      -0.014552   \n",
       "int_Sports                                              -0.506696   \n",
       "int_ElderlyMonitor                                      -0.058562   \n",
       "int_Gaming                                              -0.515424   \n",
       "int_StudyRoom                                           -0.154777   \n",
       "int_GroupStudies                                         0.000000   \n",
       "int_InterestedIn                                        -0.173360   \n",
       "int_SatisfactionInOnlineEducation                        0.159236   \n",
       "int_ClassroomMarks                                      -0.002934   \n",
       "\n",
       "                                                  PCA Component 1  \\\n",
       "Age(Years)                                          -7.576051e-03   \n",
       "Number of Subjects                                   1.655107e-02   \n",
       "Family size                                          3.661298e-02   \n",
       "Internet facility in your locality                  -2.274358e-01   \n",
       "Study time (Hours)                                  -3.682295e-02   \n",
       "Sleep time (Hours)                                  -2.653528e-03   \n",
       "Time spent on social media (Hours)                  -2.484390e-02   \n",
       "Your interaction in online mode                     -1.018073e-01   \n",
       "Clearing doubts with faculties in online mode       -9.587824e-02   \n",
       "int_Gender                                           2.167464e-01   \n",
       "int_HomeLocation                                    -5.563119e-01   \n",
       "int_LevelofEducation                                 4.253419e-02   \n",
       "int_DeviceTypeUsedToAttendClassesLevelOEducation    -1.731055e-01   \n",
       "int_EconomicStatus                                  -6.828420e-02   \n",
       "int_Sports                                          -2.200774e-01   \n",
       "int_ElderlyMonitor                                  -3.068179e-01   \n",
       "int_Gaming                                           2.126993e-01   \n",
       "int_StudyRoom                                       -5.737505e-01   \n",
       "int_GroupStudies                                     6.462349e-27   \n",
       "int_InterestedIn                                    -9.083355e-02   \n",
       "int_SatisfactionInOnlineEducation                   -3.868251e-02   \n",
       "int_ClassroomMarks                                  -7.358849e-02   \n",
       "\n",
       "                                                  PCA Component 2  \\\n",
       "Age(Years)                                           1.089678e-02   \n",
       "Number of Subjects                                  -4.771761e-03   \n",
       "Family size                                          6.246559e-02   \n",
       "Internet facility in your locality                  -1.290754e-02   \n",
       "Study time (Hours)                                   7.858492e-02   \n",
       "Sleep time (Hours)                                   7.278154e-03   \n",
       "Time spent on social media (Hours)                  -3.025051e-02   \n",
       "Your interaction in online mode                      2.628174e-01   \n",
       "Clearing doubts with faculties in online mode        2.827663e-01   \n",
       "int_Gender                                          -9.997216e-02   \n",
       "int_HomeLocation                                    -3.629158e-01   \n",
       "int_LevelofEducation                                 2.413256e-02   \n",
       "int_DeviceTypeUsedToAttendClassesLevelOEducation    -9.907322e-02   \n",
       "int_EconomicStatus                                  -2.238354e-02   \n",
       "int_Sports                                           5.323484e-02   \n",
       "int_ElderlyMonitor                                   6.730897e-01   \n",
       "int_Gaming                                           3.014039e-01   \n",
       "int_StudyRoom                                        1.115713e-02   \n",
       "int_GroupStudies                                     1.033976e-25   \n",
       "int_InterestedIn                                    -1.950488e-01   \n",
       "int_SatisfactionInOnlineEducation                    3.096125e-01   \n",
       "int_ClassroomMarks                                  -7.911318e-02   \n",
       "\n",
       "                                                  PCA Component 3  \\\n",
       "Age(Years)                                           3.168357e-02   \n",
       "Number of Subjects                                   9.913540e-03   \n",
       "Family size                                         -2.527070e-02   \n",
       "Internet facility in your locality                   5.452750e-02   \n",
       "Study time (Hours)                                   4.110037e-02   \n",
       "Sleep time (Hours)                                   7.473823e-02   \n",
       "Time spent on social media (Hours)                   1.088336e-02   \n",
       "Your interaction in online mode                      2.034686e-01   \n",
       "Clearing doubts with faculties in online mode        2.050564e-01   \n",
       "int_Gender                                           5.506266e-02   \n",
       "int_HomeLocation                                    -3.616992e-01   \n",
       "int_LevelofEducation                                 3.005955e-02   \n",
       "int_DeviceTypeUsedToAttendClassesLevelOEducation    -5.707497e-02   \n",
       "int_EconomicStatus                                  -4.094856e-03   \n",
       "int_Sports                                          -4.164960e-02   \n",
       "int_ElderlyMonitor                                  -5.443493e-01   \n",
       "int_Gaming                                           6.593955e-02   \n",
       "int_StudyRoom                                        6.260632e-01   \n",
       "int_GroupStudies                                    -8.271806e-25   \n",
       "int_InterestedIn                                    -7.340187e-02   \n",
       "int_SatisfactionInOnlineEducation                    2.541991e-01   \n",
       "int_ClassroomMarks                                  -4.527487e-02   \n",
       "\n",
       "                                                  PCA Component 4  \\\n",
       "Age(Years)                                              -0.021277   \n",
       "Number of Subjects                                       0.020036   \n",
       "Family size                                              0.061398   \n",
       "Internet facility in your locality                      -0.096851   \n",
       "Study time (Hours)                                       0.005534   \n",
       "Sleep time (Hours)                                      -0.004262   \n",
       "Time spent on social media (Hours)                      -0.061320   \n",
       "Your interaction in online mode                         -0.127627   \n",
       "Clearing doubts with faculties in online mode           -0.104082   \n",
       "int_Gender                                               0.312922   \n",
       "int_HomeLocation                                        -0.440298   \n",
       "int_LevelofEducation                                    -0.008944   \n",
       "int_DeviceTypeUsedToAttendClassesLevelOEducation         0.033417   \n",
       "int_EconomicStatus                                      -0.000317   \n",
       "int_Sports                                               0.230135   \n",
       "int_ElderlyMonitor                                       0.240621   \n",
       "int_Gaming                                              -0.702223   \n",
       "int_StudyRoom                                            0.163165   \n",
       "int_GroupStudies                                        -0.000000   \n",
       "int_InterestedIn                                        -0.083860   \n",
       "int_SatisfactionInOnlineEducation                       -0.154377   \n",
       "int_ClassroomMarks                                       0.024896   \n",
       "\n",
       "                                                  PCA Component 5  \\\n",
       "Age(Years)                                               0.017031   \n",
       "Number of Subjects                                      -0.039109   \n",
       "Family size                                              0.003913   \n",
       "Internet facility in your locality                       0.057437   \n",
       "Study time (Hours)                                      -0.058775   \n",
       "Sleep time (Hours)                                       0.032946   \n",
       "Time spent on social media (Hours)                       0.009043   \n",
       "Your interaction in online mode                          0.151805   \n",
       "Clearing doubts with faculties in online mode            0.116314   \n",
       "int_Gender                                              -0.293819   \n",
       "int_HomeLocation                                         0.006863   \n",
       "int_LevelofEducation                                     0.022655   \n",
       "int_DeviceTypeUsedToAttendClassesLevelOEducation        -0.100028   \n",
       "int_EconomicStatus                                       0.033371   \n",
       "int_Sports                                               0.775105   \n",
       "int_ElderlyMonitor                                      -0.275913   \n",
       "int_Gaming                                              -0.129464   \n",
       "int_StudyRoom                                           -0.331864   \n",
       "int_GroupStudies                                        -0.000000   \n",
       "int_InterestedIn                                        -0.160478   \n",
       "int_SatisfactionInOnlineEducation                        0.150785   \n",
       "int_ClassroomMarks                                      -0.057978   \n",
       "\n",
       "                                                  PCA Component 6  \\\n",
       "Age(Years)                                              -0.039503   \n",
       "Number of Subjects                                      -0.019415   \n",
       "Family size                                              0.046043   \n",
       "Internet facility in your locality                      -0.137490   \n",
       "Study time (Hours)                                      -0.047748   \n",
       "Sleep time (Hours)                                       0.014994   \n",
       "Time spent on social media (Hours)                       0.069810   \n",
       "Your interaction in online mode                         -0.288897   \n",
       "Clearing doubts with faculties in online mode           -0.344662   \n",
       "int_Gender                                              -0.554373   \n",
       "int_HomeLocation                                        -0.246502   \n",
       "int_LevelofEducation                                    -0.006628   \n",
       "int_DeviceTypeUsedToAttendClassesLevelOEducation        -0.001512   \n",
       "int_EconomicStatus                                      -0.008115   \n",
       "int_Sports                                               0.126027   \n",
       "int_ElderlyMonitor                                       0.040112   \n",
       "int_Gaming                                               0.269048   \n",
       "int_StudyRoom                                            0.290265   \n",
       "int_GroupStudies                                        -0.000000   \n",
       "int_InterestedIn                                        -0.215302   \n",
       "int_SatisfactionInOnlineEducation                       -0.422678   \n",
       "int_ClassroomMarks                                      -0.007696   \n",
       "\n",
       "                                                  PCA Component 7  \\\n",
       "Age(Years)                                               0.065640   \n",
       "Number of Subjects                                      -0.003463   \n",
       "Family size                                              0.039865   \n",
       "Internet facility in your locality                       0.019540   \n",
       "Study time (Hours)                                       0.061044   \n",
       "Sleep time (Hours)                                      -0.005715   \n",
       "Time spent on social media (Hours)                      -0.018145   \n",
       "Your interaction in online mode                          0.064486   \n",
       "Clearing doubts with faculties in online mode            0.053623   \n",
       "int_Gender                                              -0.268304   \n",
       "int_HomeLocation                                        -0.307491   \n",
       "int_LevelofEducation                                     0.017471   \n",
       "int_DeviceTypeUsedToAttendClassesLevelOEducation         0.028090   \n",
       "int_EconomicStatus                                      -0.005025   \n",
       "int_Sports                                               0.076113   \n",
       "int_ElderlyMonitor                                       0.027081   \n",
       "int_Gaming                                              -0.013402   \n",
       "int_StudyRoom                                           -0.038971   \n",
       "int_GroupStudies                                        -0.000000   \n",
       "int_InterestedIn                                         0.891996   \n",
       "int_SatisfactionInOnlineEducation                       -0.041089   \n",
       "int_ClassroomMarks                                       0.096742   \n",
       "\n",
       "                                                  PCA Component 8  \\\n",
       "Age(Years)                                              -0.039913   \n",
       "Number of Subjects                                      -0.005296   \n",
       "Family size                                             -0.028961   \n",
       "Internet facility in your locality                       0.622410   \n",
       "Study time (Hours)                                      -0.232505   \n",
       "Sleep time (Hours)                                       0.082104   \n",
       "Time spent on social media (Hours)                       0.283928   \n",
       "Your interaction in online mode                         -0.065465   \n",
       "Clearing doubts with faculties in online mode           -0.113700   \n",
       "int_Gender                                              -0.005074   \n",
       "int_HomeLocation                                        -0.252043   \n",
       "int_LevelofEducation                                    -0.248020   \n",
       "int_DeviceTypeUsedToAttendClassesLevelOEducation         0.503943   \n",
       "int_EconomicStatus                                       0.136801   \n",
       "int_Sports                                              -0.055780   \n",
       "int_ElderlyMonitor                                       0.003471   \n",
       "int_Gaming                                               0.036017   \n",
       "int_StudyRoom                                           -0.135098   \n",
       "int_GroupStudies                                        -0.000000   \n",
       "int_InterestedIn                                        -0.080750   \n",
       "int_SatisfactionInOnlineEducation                        0.118095   \n",
       "int_ClassroomMarks                                       0.103156   \n",
       "\n",
       "                                                  PCA Component 9  \n",
       "Age(Years)                                              -0.038295  \n",
       "Number of Subjects                                      -0.063557  \n",
       "Family size                                              0.026338  \n",
       "Internet facility in your locality                      -0.138025  \n",
       "Study time (Hours)                                      -0.507318  \n",
       "Sleep time (Hours)                                       0.171960  \n",
       "Time spent on social media (Hours)                       0.226419  \n",
       "Your interaction in online mode                         -0.260973  \n",
       "Clearing doubts with faculties in online mode           -0.238537  \n",
       "int_Gender                                              -0.006668  \n",
       "int_HomeLocation                                         0.068846  \n",
       "int_LevelofEducation                                    -0.205694  \n",
       "int_DeviceTypeUsedToAttendClassesLevelOEducation        -0.373988  \n",
       "int_EconomicStatus                                       0.000680  \n",
       "int_Sports                                              -0.008831  \n",
       "int_ElderlyMonitor                                       0.087430  \n",
       "int_Gaming                                              -0.061549  \n",
       "int_StudyRoom                                            0.101144  \n",
       "int_GroupStudies                                         0.000000  \n",
       "int_InterestedIn                                         0.166160  \n",
       "int_SatisfactionInOnlineEducation                        0.457093  \n",
       "int_ClassroomMarks                                      -0.257468  "
      ]
     },
     "execution_count": 43,
     "metadata": {},
     "output_type": "execute_result"
    }
   ],
   "source": [
    "pca_dims = []\n",
    "column_headers = list(oedf_int_ip.columns)\n",
    "for x in range(0, len(pca_df)):\n",
    "    pca_dims.append('PCA Component {}'.format(x))\n",
    "pca_test_df = pd.DataFrame(pca_test.components_, columns=column_headers, index=pca_dims)\n",
    "pca_test_df.head(10).T"
   ]
  },
  {
   "cell_type": "code",
   "execution_count": 44,
   "metadata": {},
   "outputs": [
    {
     "name": "stderr",
     "output_type": "stream",
     "text": [
      "C:\\Users\\Arjun\\AppData\\Local\\Temp\\ipykernel_14324\\1365439534.py:4: DataConversionWarning: A column-vector y was passed when a 1d array was expected. Please change the shape of y to (n_samples,), for example using ravel().\n",
      "  rfc.fit(X_train_scaled_pca,  trn_y.astype('int'))\n"
     ]
    },
    {
     "data": {
      "text/plain": [
       "array([2, 2, 2, 2, 2, 2, 2, 2, 2, 2, 2, 2, 2, 1, 2, 2, 2, 2, 2, 2, 2, 2,\n",
       "       2, 2, 2, 2, 2, 2, 2, 2, 2, 2, 2, 2, 2, 2, 2, 2, 2, 2, 2, 2, 2, 2,\n",
       "       2, 2, 2, 2, 2, 2, 2, 2, 2, 2, 2, 2, 2, 2, 2, 2, 2, 2, 2, 2, 2, 2,\n",
       "       2, 2, 2, 2, 1, 2, 2, 2, 2, 2, 2, 2, 2, 2, 2, 2, 2, 2, 2, 2, 2, 2,\n",
       "       2, 2, 2, 2, 2, 2, 2, 2, 2, 2, 2, 2, 2, 2, 2, 2, 2, 2, 2, 2, 2, 2,\n",
       "       2, 2, 2, 2, 2, 2, 2, 2, 1, 2, 2, 2, 1, 2, 2, 2, 2, 2, 2, 1, 2, 2,\n",
       "       2, 2, 2, 2, 2, 2, 2, 2, 2, 2, 2, 2, 2, 2, 2, 2, 2, 2, 2, 2, 2, 2,\n",
       "       2, 2, 2, 2, 2, 2, 2, 2, 2, 2, 2, 2, 2, 2, 2, 2, 2, 2, 2, 2, 2, 2,\n",
       "       2, 2, 2, 2, 2, 2, 2, 2, 2, 2, 2, 2, 2, 2, 2, 2, 2, 2, 2, 1, 2, 2,\n",
       "       2, 2, 2, 2, 2, 2, 2, 2, 2, 2, 2, 2, 2, 2, 2, 2, 2, 2, 2, 2, 2, 1,\n",
       "       2, 2, 2, 2, 1, 2, 2, 2, 2, 2, 2, 2, 2, 2, 2, 2, 2, 2, 2, 2, 2, 2,\n",
       "       2, 2, 2, 2, 2, 2, 2, 2, 2, 2, 2, 2, 2, 1, 2, 2, 2, 2, 2, 2, 2, 2,\n",
       "       1, 2, 2, 2, 2, 2, 2, 2, 2, 2, 2, 2, 1, 2, 2, 2, 2, 2, 2, 2, 2, 2,\n",
       "       2, 2, 2, 2, 2, 2, 2, 2, 2, 2, 2, 2, 2, 2, 2, 2, 2, 2, 2, 2, 2, 2,\n",
       "       2, 2, 2, 2, 2, 2, 2, 2, 2, 2, 2, 2, 2, 2, 2, 2, 2, 2, 1, 2, 2, 2,\n",
       "       2, 2, 2, 2, 2, 2, 2, 2, 1, 2, 2, 2, 2, 2, 2, 2, 2, 2, 2, 2, 2, 2,\n",
       "       2, 2, 2, 2, 2, 2, 2, 2, 2, 2, 2, 2, 2, 2, 2, 2, 2, 2, 2, 2, 2, 2,\n",
       "       2, 2, 2, 2, 2, 2, 2, 2, 2, 2, 2, 2, 2, 2, 2, 2, 2, 2, 2, 2, 2, 2,\n",
       "       2, 1, 2, 1, 2, 2, 2, 2, 2, 2, 2, 2, 2, 2, 2, 2, 2, 2, 2, 2, 2, 2,\n",
       "       2, 2, 2, 2, 2, 2, 1, 2, 2, 2, 2, 2, 2, 2, 2, 2, 2, 2, 2, 2, 2, 2,\n",
       "       2, 2, 2, 2, 2, 2, 2, 2, 2, 2, 2, 2, 2, 2, 2, 2, 2, 2, 2, 2, 2, 2,\n",
       "       2, 2, 2, 2, 2, 2, 2, 2, 2, 2, 2, 2, 2, 2, 2, 2, 2, 2, 2, 2, 2, 2,\n",
       "       2, 2, 2, 2, 2, 2, 2, 2, 2, 2, 2, 2, 2, 2, 2, 2, 2, 2, 2, 2, 2, 2,\n",
       "       2, 2, 2, 2, 2, 2, 2, 2, 2, 2, 2, 2, 2, 2, 2, 2, 2, 2, 2, 2, 2, 2,\n",
       "       2, 2, 2, 2, 2, 2, 2, 2, 2, 2, 2, 2, 2, 2, 2, 2, 2, 1, 2, 2, 2, 2,\n",
       "       2, 2, 2, 2, 2, 2, 2, 2, 2, 2, 2, 2, 2, 2, 2, 2, 2, 2, 2, 2, 2, 2,\n",
       "       2, 2, 2, 2, 2, 2, 2, 2, 2, 2, 2, 2, 2, 2, 1, 2, 2, 2, 2, 2, 2, 2,\n",
       "       2, 2, 2, 2, 2, 2, 2, 2, 2, 2, 2, 2, 2, 2, 2, 2, 2, 2, 2, 2, 2, 2,\n",
       "       2, 2, 2, 2, 2, 2, 2, 2, 2, 2, 1, 2, 2, 2, 2, 2, 2, 2, 2, 2, 2, 2,\n",
       "       2, 2, 2, 2, 2, 2, 2, 2, 2, 2, 2, 2, 2, 2, 2, 2, 2, 2, 2, 2, 2, 2,\n",
       "       2, 2, 2, 2, 2, 2, 2, 2, 2, 2, 2, 2, 2, 2, 2, 2, 2, 2, 2, 2, 2, 2,\n",
       "       2, 2, 2, 2, 2, 1, 2, 2, 2, 2, 2, 2, 2, 2, 2, 2, 2, 1, 2, 2, 2, 2,\n",
       "       2, 2, 2, 2, 2, 2, 2, 2, 2, 2, 2, 2, 2, 2, 2, 2, 2, 2, 2, 2, 2, 2,\n",
       "       2, 2, 2, 2, 2, 2, 2, 2, 2, 2, 2, 2, 2, 2, 2, 2, 2, 2, 2, 2, 2, 2,\n",
       "       2, 2, 2, 2, 2, 2, 2, 2])"
      ]
     },
     "execution_count": 44,
     "metadata": {},
     "output_type": "execute_result"
    }
   ],
   "source": [
    "from sklearn.ensemble import RandomForestClassifier\n",
    "\n",
    "rfc = RandomForestClassifier()\n",
    "rfc.fit(X_train_scaled_pca,  trn_y.astype('int'))\n",
    "\n",
    "result_rf = rfc.predict(X_train_scaled_pca.astype('int'))\n",
    "\n",
    "\n",
    "result_rf\n"
   ]
  },
  {
   "cell_type": "code",
   "execution_count": 45,
   "metadata": {},
   "outputs": [
    {
     "name": "stdout",
     "output_type": "stream",
     "text": [
      "Fitting 3 folds for each of 540 candidates, totalling 1620 fits\n"
     ]
    },
    {
     "name": "stderr",
     "output_type": "stream",
     "text": [
      "C:\\Users\\Arjun\\anaconda3\\lib\\site-packages\\sklearn\\model_selection\\_search.py:926: DataConversionWarning: A column-vector y was passed when a 1d array was expected. Please change the shape of y to (n_samples,), for example using ravel().\n",
      "  self.best_estimator_.fit(X, y, **fit_params)\n"
     ]
    },
    {
     "data": {
      "text/plain": [
       "{'bootstrap': False,\n",
       " 'max_depth': 11,\n",
       " 'max_features': 'sqrt',\n",
       " 'min_samples_leaf': 2,\n",
       " 'min_samples_split': 24,\n",
       " 'n_estimators': 500}"
      ]
     },
     "execution_count": 45,
     "metadata": {},
     "output_type": "execute_result"
    }
   ],
   "source": [
    "from sklearn.model_selection import GridSearchCV\n",
    "n_estimators = [300,500,700]\n",
    "max_features = ['sqrt']\n",
    "max_depth = [2,3,7,11,15]\n",
    "min_samples_split = [2,3,4,22,23,24]\n",
    "min_samples_leaf = [2,3,4,5,6,7]\n",
    "bootstrap = [False]\n",
    "param_grid = {'n_estimators': n_estimators,\n",
    "               'max_features': max_features,\n",
    "               'max_depth': max_depth,\n",
    "               'min_samples_split': min_samples_split,\n",
    "               'min_samples_leaf': min_samples_leaf,\n",
    "               'bootstrap': bootstrap}\n",
    "gs = GridSearchCV(rfc, param_grid, cv = 3, verbose = 1, n_jobs=-1)\n",
    "gs.fit(X_train_scaled_pca, trn_y.astype('int'))\n",
    "rfc_3 = gs.best_estimator_\n",
    "gs.best_params_"
   ]
  },
  {
   "cell_type": "code",
   "execution_count": 46,
   "metadata": {},
   "outputs": [
    {
     "name": "stderr",
     "output_type": "stream",
     "text": [
      "C:\\Users\\Arjun\\AppData\\Local\\Temp\\ipykernel_14324\\3462100992.py:2: DataConversionWarning: A column-vector y was passed when a 1d array was expected. Please change the shape of y to (n_samples,), for example using ravel().\n",
      "  rf_cl.fit(trn_x.astype('int'), trn_y.astype('int'))\n"
     ]
    }
   ],
   "source": [
    "\n",
    "rf_cl = RandomForestClassifier(max_depth=3, random_state=0,max_features = 22)\n",
    "rf_cl.fit(trn_x.astype('int'), trn_y.astype('int'))\n",
    "y_pred = rf_cl.predict(tst_x.astype('int'))\n",
    "\n",
    "y_pred_pca = rfc.predict(X_test_scaled_pca)\n",
    "y_pred_gs = gs.best_estimator_.predict(X_test_scaled_pca)"
   ]
  },
  {
   "cell_type": "code",
   "execution_count": 63,
   "metadata": {},
   "outputs": [
    {
     "data": {
      "text/plain": [
       "'Baseline Random Forest recall score'"
      ]
     },
     "metadata": {},
     "output_type": "display_data"
    },
    {
     "data": {
      "text/plain": [
       "0.7684210526315789"
      ]
     },
     "metadata": {},
     "output_type": "display_data"
    },
    {
     "data": {
      "text/plain": [
       "'conf_matrix_baseline_pca'"
      ]
     },
     "metadata": {},
     "output_type": "display_data"
    },
    {
     "data": {
      "text/plain": [
       "0.6947368421052632"
      ]
     },
     "metadata": {},
     "output_type": "display_data"
    },
    {
     "data": {
      "text/plain": [
       "'Hyperparameter Tuned Random Forest With PCA Reduced Dimensionality recall score'"
      ]
     },
     "metadata": {},
     "output_type": "display_data"
    },
    {
     "data": {
      "text/plain": [
       "0.7210526315789474"
      ]
     },
     "metadata": {},
     "output_type": "display_data"
    },
    {
     "data": {
      "text/plain": [
       "'Baseline Random Forest f1 score'"
      ]
     },
     "metadata": {},
     "output_type": "display_data"
    },
    {
     "data": {
      "text/plain": [
       "0.7684210526315788"
      ]
     },
     "metadata": {},
     "output_type": "display_data"
    },
    {
     "data": {
      "text/plain": [
       "'conf_matrix_baseline_pca'"
      ]
     },
     "metadata": {},
     "output_type": "display_data"
    },
    {
     "data": {
      "text/plain": [
       "0.6947368421052632"
      ]
     },
     "metadata": {},
     "output_type": "display_data"
    },
    {
     "data": {
      "text/plain": [
       "'Hyperparameter Tuned Random Forest With PCA Reduced Dimensionality F1 score'"
      ]
     },
     "metadata": {},
     "output_type": "display_data"
    },
    {
     "data": {
      "text/plain": [
       "0.7210526315789474"
      ]
     },
     "metadata": {},
     "output_type": "display_data"
    },
    {
     "data": {
      "image/png": "[encoded data removed]",
      "text/plain": [
       "<Figure size 432x288 with 2 Axes>"
      ]
     },
     "metadata": {},
     "output_type": "display_data"
    },
    {
     "data": {
      "image/png": "[encoded data removed]",
      "text/plain": [
       "<Figure size 432x288 with 2 Axes>"
      ]
     },
     "metadata": {},
     "output_type": "display_data"
    },
    {
     "data": {
      "image/png": "[encoded data removed]",
      "text/plain": [
       "<Figure size 432x288 with 2 Axes>"
      ]
     },
     "metadata": {},
     "output_type": "display_data"
    }
   ],
   "source": [
    "from sklearn.metrics import confusion_matrix\n",
    "from sklearn.metrics import ConfusionMatrixDisplay\n",
    "from sklearn.metrics import recall_score\n",
    "from sklearn.metrics import f1_score\n",
    "\n",
    "\n",
    "cm = confusion_matrix(tst_y.astype('int'), y_pred.astype('int'))\n",
    "cm_pca = confusion_matrix(tst_y.astype('int'), y_pred_pca.astype('int'))\n",
    "cm_gs = confusion_matrix(tst_y.astype('int'), y_pred_gs.astype('int'))\n",
    "\n",
    "#conf_matrix_baseline = pd.DataFrame(confusion_matrix(tst_y.astype('int'), y_pred.astype('int')), index = ['actual 0', 'actual 1'], columns = ['predicted 0', 'predicted 1'])\n",
    "#conf_matrix_baseline_pca = pd.DataFrame(confusion_matrix(tst_y.astype('int'), y_pred_pca.astype('int')), index = ['actual 0', 'actual 1'], columns = ['predicted 0', 'predicted 1'])\n",
    "#conf_matrix_tuned_pca = pd.DataFrame(confusion_matrix(tst_y.astype('int'), y_pred_gs.astype('int')), index = ['actual 0', 'actual 1'], columns = ['predicted 0', 'predicted 1'])\n",
    "\n",
    "disp.plot()\n",
    "disp_pca.plot()\n",
    "disp_gs.plot()\n",
    "disp = ConfusionMatrixDisplay(confusion_matrix=cm,display_labels=rfc.classes_)\n",
    "\n",
    "display('Baseline Random Forest recall score', recall_score(tst_y.astype('int'), y_pred.astype('int'), average='micro'))\n",
    "\n",
    "disp_pca = ConfusionMatrixDisplay(confusion_matrix=cm_pca,display_labels=rfc.classes_)\n",
    "\n",
    "display('conf_matrix_baseline_pca', recall_score(tst_y.astype('int'), y_pred_pca.astype('int'), average='micro'))\n",
    "disp_gs = ConfusionMatrixDisplay(confusion_matrix=cm_gs,display_labels=rfc.classes_)\n",
    "display('Hyperparameter Tuned Random Forest With PCA Reduced Dimensionality recall score', recall_score(tst_y.astype('int'), y_pred_gs.astype('int'), average='micro'))\n",
    "\n",
    "display('Baseline Random Forest f1 score', f1_score(tst_y.astype('int'), y_pred.astype('int'), average='micro'))\n",
    "\n",
    "disp_pca = ConfusionMatrixDisplay(confusion_matrix=cm_pca,display_labels=rfc.classes_)\n",
    "\n",
    "display('conf_matrix_baseline_pca', f1_score(tst_y.astype('int'), y_pred_pca.astype('int'), average='micro'))\n",
    "disp_gs = ConfusionMatrixDisplay(confusion_matrix=cm_gs,display_labels=rfc.classes_)\n",
    "display('Hyperparameter Tuned Random Forest With PCA Reduced Dimensionality F1 score', f1_score(tst_y.astype('int'), y_pred_gs.astype('int'), average='micro'))\n",
    "\n",
    "\n",
    "#display(conf_matrix_baseline)\n",
    "\n",
    "\n",
    "\n",
    "#display(conf_matrix_baseline_pca)\n",
    "#display('Baseline Random Forest With PCA recall score', recall_score(tst_y, y_pred_pca))\n",
    "#display(conf_matrix_tuned_pca)\n",
    "#display('Hyperparameter Tuned Random Forest With PCA Reduced Dimensionality recall score', recall_score(tst_y, y_pred_gs))"
   ]
  },
  {
   "cell_type": "code",
   "execution_count": null,
   "metadata": {},
   "outputs": [],
   "source": []
  },
  {
   "cell_type": "markdown",
   "metadata": {},
   "source": [
    "## kNN: KNeighborsClassifier"
   ]
  },
  {
   "cell_type": "code",
   "execution_count": null,
   "metadata": {},
   "outputs": [],
   "source": []
  },
  {
   "cell_type": "code",
   "execution_count": 64,
   "metadata": {},
   "outputs": [],
   "source": [
    "pca = PCA(n_components=10)\n",
    "pca.fit(trn_x)\n",
    "X_train_scaled_pca = pca.transform(trn_x)\n",
    "X_test_scaled_pca = pca.transform(trn_x)"
   ]
  },
  {
   "cell_type": "code",
   "execution_count": 65,
   "metadata": {},
   "outputs": [
    {
     "name": "stderr",
     "output_type": "stream",
     "text": [
      "C:\\Users\\Arjun\\anaconda3\\lib\\site-packages\\sklearn\\neighbors\\_classification.py:198: DataConversionWarning: A column-vector y was passed when a 1d array was expected. Please change the shape of y to (n_samples,), for example using ravel().\n",
      "  return self._fit(X, y)\n"
     ]
    },
    {
     "data": {
      "text/plain": [
       "array([2, 2, 2, 2, 2, 2, 2, 2, 2, 2, 1, 2, 2, 2, 1, 2, 2, 1, 2, 2, 1, 2,\n",
       "       2, 2, 2, 1, 2, 2, 2, 2, 2, 2, 2, 1, 2, 1, 2, 2, 2, 2, 2, 2, 2, 2,\n",
       "       2, 2, 1, 2, 2, 2, 2, 2, 2, 2, 1, 2, 2, 2, 2, 1, 2, 2, 1, 2, 1, 2,\n",
       "       2, 2, 2, 2, 2, 2, 2, 1, 2, 1, 2, 2, 2, 2, 2, 2, 2, 2, 2, 2, 2, 2,\n",
       "       2, 2, 2, 1, 2, 2, 2, 2, 2, 2, 2, 2, 2, 2, 2, 1, 2, 2, 1, 2, 1, 1,\n",
       "       2, 1, 2, 2, 2, 2, 1, 2, 2, 2, 2, 2, 2, 2, 2, 2, 2, 2, 2, 2, 2, 2,\n",
       "       2, 2, 2, 2, 3, 2, 2, 2, 2, 2, 2, 2, 2, 2, 2, 2, 2, 2, 2, 1, 2, 3,\n",
       "       1, 2, 2, 2, 2, 2, 2, 2, 2, 2, 2, 2, 2, 2, 2, 2, 2, 2, 1, 2, 2, 2,\n",
       "       2, 2, 2, 3, 2, 2, 2, 2, 2, 1, 2, 2, 2, 2])"
      ]
     },
     "execution_count": 65,
     "metadata": {},
     "output_type": "execute_result"
    }
   ],
   "source": [
    "from sklearn.neighbors import KNeighborsClassifier\n",
    "knn_cl = KNeighborsClassifier(n_neighbors=3)\n",
    "knn_cl.fit(trn_x.astype('int'), trn_y.astype('int'))\n",
    "result_knn = knn_cl.predict(tst_x.astype('int'))\n",
    "result_knn_proba = knn_cl.predict_proba(tst_x.astype('int'))\n",
    "result_knn\n"
   ]
  },
  {
   "cell_type": "code",
   "execution_count": 66,
   "metadata": {},
   "outputs": [
    {
     "name": "stdout",
     "output_type": "stream",
     "text": [
      "Root Mean Sq Err RMSE:  0.5721036895344649\n",
      "Abs Err:  0.41710526315789476\n",
      "Accuracy Score:  0.7\n"
     ]
    }
   ],
   "source": [
    "import math as mth\n",
    "from sklearn.metrics import mean_squared_error\n",
    "from sklearn.metrics import mean_absolute_error\n",
    "from sklearn.metrics import accuracy_score\n",
    "\n",
    "meanSqEr_knn = mean_squared_error(tst_y, result_knn)\n",
    "rmsEr_knn = mth.sqrt(meanSqEr_knn)\n",
    "absEr_knn = mean_absolute_error(tst_y, result_knn)\n",
    "acScr_knn = accuracy_score(tst_y.astype('int'), result_knn.astype('int'))\n",
    "\n",
    "print(\"Root Mean Sq Err RMSE: \", rmsEr_knn)\n",
    "print(\"Abs Err: \", absEr_knn)\n",
    "print(\"Accuracy Score: \", acScr_knn)"
   ]
  },
  {
   "cell_type": "markdown",
   "metadata": {},
   "source": [
    "## LR:  LogisticRegression"
   ]
  },
  {
   "cell_type": "code",
   "execution_count": 67,
   "metadata": {},
   "outputs": [
    {
     "name": "stderr",
     "output_type": "stream",
     "text": [
      "C:\\Users\\Arjun\\anaconda3\\lib\\site-packages\\sklearn\\utils\\validation.py:993: DataConversionWarning: A column-vector y was passed when a 1d array was expected. Please change the shape of y to (n_samples, ), for example using ravel().\n",
      "  y = column_or_1d(y, warn=True)\n",
      "C:\\Users\\Arjun\\anaconda3\\lib\\site-packages\\sklearn\\linear_model\\_logistic.py:814: ConvergenceWarning: lbfgs failed to converge (status=1):\n",
      "STOP: TOTAL NO. of ITERATIONS REACHED LIMIT.\n",
      "\n",
      "Increase the number of iterations (max_iter) or scale the data as shown in:\n",
      "    https://scikit-learn.org/stable/modules/preprocessing.html\n",
      "Please also refer to the documentation for alternative solver options:\n",
      "    https://scikit-learn.org/stable/modules/linear_model.html#logistic-regression\n",
      "  n_iter_i = _check_optimize_result(\n"
     ]
    },
    {
     "data": {
      "text/plain": [
       "array([2, 2, 3, 2, 2, 2, 2, 2, 3, 2, 2, 2, 2, 1, 1, 2, 2, 2, 2, 2, 2, 2,\n",
       "       2, 2, 2, 2, 1, 3, 2, 2, 2, 2, 2, 1, 2, 1, 2, 2, 1, 2, 2, 2, 2, 2,\n",
       "       2, 3, 2, 2, 2, 2, 2, 2, 2, 2, 1, 1, 2, 2, 2, 2, 2, 2, 2, 2, 2, 2,\n",
       "       2, 2, 2, 2, 2, 2, 2, 2, 2, 1, 3, 2, 2, 2, 2, 2, 2, 2, 2, 2, 2, 2,\n",
       "       2, 2, 2, 2, 2, 2, 2, 2, 2, 1, 2, 2, 2, 2, 2, 2, 2, 2, 2, 2, 2, 2,\n",
       "       2, 2, 2, 2, 2, 1, 2, 2, 2, 2, 2, 2, 2, 2, 2, 2, 2, 3, 1, 2, 2, 2,\n",
       "       2, 2, 2, 2, 3, 2, 2, 2, 2, 2, 1, 1, 2, 2, 2, 2, 2, 2, 2, 2, 2, 2,\n",
       "       1, 2, 2, 2, 2, 2, 2, 2, 2, 2, 2, 2, 2, 2, 2, 2, 2, 2, 2, 2, 2, 2,\n",
       "       2, 2, 2, 3, 2, 2, 2, 2, 2, 2, 2, 2, 2, 2])"
      ]
     },
     "execution_count": 67,
     "metadata": {},
     "output_type": "execute_result"
    }
   ],
   "source": [
    "from sklearn.linear_model import LogisticRegression\n",
    "lr_cl = LogisticRegression(random_state=3)\n",
    "lr_cl.fit(trn_x.astype('int'), trn_y.astype('int'))\n",
    "result_lr = lr_cl.predict(tst_x.astype('int'))\n",
    "result_lr_proba = lr_cl.predict_proba(tst_x.astype('int'))\n",
    "result_lr"
   ]
  },
  {
   "cell_type": "code",
   "execution_count": 68,
   "metadata": {},
   "outputs": [
    {
     "name": "stdout",
     "output_type": "stream",
     "text": [
      "Root Mean Sq Err RMSE:  0.45414755311462374\n",
      "Abs Err:  0.34342105263157896\n",
      "Accuracy Score:  0.7736842105263158\n"
     ]
    }
   ],
   "source": [
    "meanSqEr_lr = mean_squared_error(tst_y, result_lr)\n",
    "rmsEr_lr = mth.sqrt(meanSqEr_lr)\n",
    "absEr_lr = mean_absolute_error(tst_y, result_lr)\n",
    "acScr_lr = accuracy_score(tst_y.astype('int'), result_lr.astype('int'))\n",
    "\n",
    "print(\"Root Mean Sq Err RMSE: \", rmsEr_lr)\n",
    "print(\"Abs Err: \", absEr_lr)\n",
    "print(\"Accuracy Score: \", acScr_lr)"
   ]
  },
  {
   "cell_type": "markdown",
   "metadata": {},
   "source": [
    "## RF: RandomForestClassifier"
   ]
  },
  {
   "cell_type": "code",
   "execution_count": 69,
   "metadata": {},
   "outputs": [
    {
     "name": "stderr",
     "output_type": "stream",
     "text": [
      "C:\\Users\\Arjun\\AppData\\Local\\Temp\\ipykernel_14324\\1093925719.py:3: DataConversionWarning: A column-vector y was passed when a 1d array was expected. Please change the shape of y to (n_samples,), for example using ravel().\n",
      "  rf_cl.fit(trn_x.astype('int'), trn_y.astype('int'))\n"
     ]
    },
    {
     "data": {
      "text/plain": [
       "array([2, 2, 3, 2, 2, 2, 2, 2, 3, 2, 2, 2, 2, 1, 1, 2, 2, 2, 2, 2, 2, 2,\n",
       "       2, 2, 2, 1, 2, 3, 2, 2, 2, 2, 2, 1, 2, 1, 2, 2, 2, 2, 2, 2, 2, 2,\n",
       "       2, 3, 2, 2, 2, 2, 2, 2, 2, 2, 2, 1, 2, 2, 2, 2, 2, 2, 1, 2, 2, 2,\n",
       "       2, 2, 2, 2, 2, 2, 2, 2, 2, 1, 3, 2, 2, 2, 2, 2, 2, 2, 2, 2, 2, 2,\n",
       "       2, 2, 2, 2, 2, 2, 2, 2, 2, 2, 2, 2, 2, 2, 2, 2, 2, 3, 2, 2, 1, 1,\n",
       "       2, 2, 2, 2, 2, 2, 2, 2, 2, 2, 2, 2, 2, 2, 2, 2, 2, 3, 2, 2, 2, 2,\n",
       "       2, 2, 2, 2, 2, 2, 2, 2, 2, 2, 2, 1, 2, 2, 2, 2, 2, 2, 2, 2, 2, 2,\n",
       "       1, 2, 2, 2, 2, 2, 2, 2, 2, 2, 2, 2, 2, 2, 2, 2, 2, 2, 2, 2, 2, 2,\n",
       "       2, 2, 2, 3, 2, 2, 2, 2, 2, 2, 2, 2, 2, 2])"
      ]
     },
     "execution_count": 69,
     "metadata": {},
     "output_type": "execute_result"
    }
   ],
   "source": [
    "from sklearn.ensemble import RandomForestClassifier\n",
    "rf_cl = RandomForestClassifier(max_depth=3, random_state=0,max_features = 22)\n",
    "rf_cl.fit(trn_x.astype('int'), trn_y.astype('int'))\n",
    "result_rf = rf_cl.predict(tst_x.astype('int'))\n",
    "result_rf_proba = rf_cl.predict_proba(tst_x.astype('int'))\n",
    "result_rf\n"
   ]
  },
  {
   "cell_type": "code",
   "execution_count": 70,
   "metadata": {},
   "outputs": [
    {
     "name": "stdout",
     "output_type": "stream",
     "text": [
      "Root Mean Sq Err RMSE:  0.4512409789155143\n",
      "Abs Err:  0.3355263157894737\n",
      "Accuracy Score:  0.7684210526315789\n"
     ]
    }
   ],
   "source": [
    "meanSqEr_rf = mean_squared_error(tst_y, result_rf)\n",
    "rmsEr_rf = mth.sqrt(meanSqEr_rf)\n",
    "absEr_rf = mean_absolute_error(tst_y, result_rf)\n",
    "acScr_rf = accuracy_score(tst_y.astype('int'), result_rf.astype('int'))\n",
    "print(\"Root Mean Sq Err RMSE: \", rmsEr_rf)\n",
    "print(\"Abs Err: \", absEr_rf)\n",
    "print(\"Accuracy Score: \", acScr_rf)"
   ]
  },
  {
   "cell_type": "markdown",
   "metadata": {},
   "source": [
    "## SVM: Support Vector Machines"
   ]
  },
  {
   "cell_type": "code",
   "execution_count": 71,
   "metadata": {},
   "outputs": [
    {
     "name": "stderr",
     "output_type": "stream",
     "text": [
      "C:\\Users\\Arjun\\anaconda3\\lib\\site-packages\\sklearn\\utils\\validation.py:993: DataConversionWarning: A column-vector y was passed when a 1d array was expected. Please change the shape of y to (n_samples, ), for example using ravel().\n",
      "  y = column_or_1d(y, warn=True)\n"
     ]
    },
    {
     "data": {
      "text/plain": [
       "array([2, 2, 2, 2, 2, 2, 2, 2, 2, 2, 2, 2, 2, 2, 2, 2, 2, 2, 2, 2, 2, 2,\n",
       "       2, 2, 2, 2, 1, 2, 2, 1, 2, 2, 2, 1, 2, 1, 2, 2, 2, 2, 2, 2, 2, 2,\n",
       "       2, 2, 2, 2, 2, 2, 2, 2, 2, 2, 1, 1, 2, 2, 2, 2, 2, 2, 2, 2, 2, 2,\n",
       "       2, 2, 2, 2, 2, 2, 2, 2, 2, 1, 2, 2, 2, 2, 2, 2, 2, 2, 2, 2, 2, 2,\n",
       "       2, 2, 2, 2, 2, 2, 2, 2, 2, 2, 2, 2, 2, 2, 2, 2, 2, 2, 2, 2, 2, 2,\n",
       "       2, 2, 2, 2, 2, 2, 2, 2, 2, 2, 2, 2, 2, 2, 2, 2, 2, 2, 2, 2, 2, 2,\n",
       "       2, 2, 2, 2, 2, 2, 2, 2, 2, 2, 2, 1, 2, 2, 2, 2, 2, 2, 2, 2, 2, 2,\n",
       "       1, 2, 2, 2, 2, 2, 2, 2, 2, 2, 2, 2, 2, 2, 2, 2, 2, 2, 2, 2, 2, 2,\n",
       "       2, 2, 2, 2, 2, 2, 2, 2, 2, 1, 2, 2, 2, 2])"
      ]
     },
     "execution_count": 71,
     "metadata": {},
     "output_type": "execute_result"
    }
   ],
   "source": [
    "from sklearn.svm import SVC\n",
    "\n",
    "svm_cl = SVC(gamma ='auto', probability = True)\n",
    "svm_cl.fit(trn_x.astype('int'), trn_y.astype('int'))\n",
    "result_svm = svm_cl.predict(tst_x.astype('int'))\n",
    "\n",
    "\n",
    "result_svm\n",
    "\n",
    "\n"
   ]
  },
  {
   "cell_type": "code",
   "execution_count": 72,
   "metadata": {},
   "outputs": [
    {
     "name": "stdout",
     "output_type": "stream",
     "text": [
      "Root Mean Sq Err RMSE:  0.5088040673455435\n",
      "Abs Err:  0.3828947368421053\n",
      "Accuracy Score:  0.7210526315789474\n"
     ]
    }
   ],
   "source": [
    "meanSqEr_svm = mean_squared_error(tst_y, result_svm)\n",
    "rmsEr_svm = mth.sqrt(meanSqEr_svm)\n",
    "absEr_svm = mean_absolute_error(tst_y, result_svm)\n",
    "acScr_svm = accuracy_score(tst_y.astype('int'), result_svm.astype('int'))\n",
    "\n",
    "print(\"Root Mean Sq Err RMSE: \", rmsEr_svm)\n",
    "print(\"Abs Err: \", absEr_svm)\n",
    "print(\"Accuracy Score: \", acScr_svm)"
   ]
  },
  {
   "cell_type": "markdown",
   "metadata": {},
   "source": [
    "## Results"
   ]
  },
  {
   "cell_type": "code",
   "execution_count": 73,
   "metadata": {},
   "outputs": [
    {
     "name": "stdout",
     "output_type": "stream",
     "text": [
      "Logistic Regression Accuracy:  0.7736842105263158\n",
      "kNN Accuracy:  0.7\n",
      "Random Forest Accuracy:  0.7684210526315789\n",
      "SVM Accuracy:  0.7210526315789474\n"
     ]
    }
   ],
   "source": [
    "acScr_lr = accuracy_score(tst_y.astype('int'), result_lr.astype('int'))\n",
    "acScr_knn = accuracy_score(tst_y.astype('int'), result_knn.astype('int'))\n",
    "acScr_rf = accuracy_score(tst_y.astype('int'), result_rf.astype('int'))\n",
    "acScr_svm = accuracy_score(tst_y.astype('int'), result_svm.astype('int'))\n",
    "\n",
    "\n",
    "print(\"Logistic Regression Accuracy: \", acScr_lr)\n",
    "print(\"kNN Accuracy: \", acScr_knn)\n",
    "print(\"Random Forest Accuracy: \", acScr_rf)\n",
    "print(\"SVM Accuracy: \", acScr_svm)"
   ]
  },
  {
   "cell_type": "markdown",
   "metadata": {},
   "source": []
  },
  {
   "cell_type": "code",
   "execution_count": null,
   "metadata": {},
   "outputs": [],
   "source": []
  },
  {
   "cell_type": "code",
   "execution_count": null,
   "metadata": {},
   "outputs": [],
   "source": []
  },
  {
   "cell_type": "code",
   "execution_count": null,
   "metadata": {},
   "outputs": [],
   "source": []
  },
  {
   "cell_type": "code",
   "execution_count": null,
   "metadata": {},
   "outputs": [],
   "source": []
  }
 ],
 "metadata": {
  "kernelspec": {
   "display_name": "Python 3 (ipykernel)",
   "language": "python",
   "name": "python3"
  },
  "language_info": {
   "codemirror_mode": {
    "name": "ipython",
    "version": 3
   },
   "file_extension": ".py",
   "mimetype": "text/x-python",
   "name": "python",
   "nbconvert_exporter": "python",
   "pygments_lexer": "ipython3",
   "version": "3.9.12"
  }
 },
 "nbformat": 4,
 "nbformat_minor": 4
}
